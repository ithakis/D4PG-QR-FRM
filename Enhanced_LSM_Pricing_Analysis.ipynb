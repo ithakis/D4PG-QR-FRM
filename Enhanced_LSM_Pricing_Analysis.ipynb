{
 "cells": [
  {
   "cell_type": "markdown",
   "id": "2e2207a6",
   "metadata": {},
   "source": [
    "# Enhanced Longstaff-Schwartz Swing Option Pricing Analysis\n",
    "\n",
    "## Comprehensive Analysis of Monthly Swing Option Pricing\n",
    "\n",
    "This notebook demonstrates the pricing of a monthly swing option using the enhanced Longstaff-Schwartz Monte Carlo method with various advanced configurations. We will:\n",
    "\n",
    "1. **Configure the pricing environment** with contract and market parameters from `run_lsm.sh`\n",
    "2. **Explore all available LSM pricer options** including different basis functions, regularization methods, and polynomial degrees\n",
    "3. **Run comprehensive pricing analysis** across all combinations of options\n",
    "4. **Visualize and compare results** to understand the impact of different methodological choices\n",
    "5. **Provide quantitative finance insights** on optimal pricing configurations\n",
    "\n",
    "The analysis uses the same monthly swing contract parameters as the RL benchmarking framework, enabling direct comparison between different pricing methodologies.\n",
    "\n",
    "### Contract Specification\n",
    "- **Type**: Monthly swing option with daily exercise rights\n",
    "- **Maturity**: 1 month (0.0833 years, ~22 trading days)\n",
    "- **Strike**: €100/MWh (at-the-money)\n",
    "- **Exercise Limits**: 0-2 MWh daily, 0-20 MWh total\n",
    "- **Market Process**: HHK spot price model with jumps and mean reversion\n",
    "\n",
    "---"
   ]
  },
  {
   "cell_type": "code",
   "execution_count": 22,
   "id": "1df85bea",
   "metadata": {},
   "outputs": [
    {
     "name": "stdout",
     "output_type": "stream",
     "text": [
      "✓ Libraries imported successfully\n",
      "✓ Project root: /Users/alexanderithakis/Documents/GitHub/D4PG-QR-FRM\n",
      "✓ LSM Pricer script: /Users/alexanderithakis/Documents/GitHub/D4PG-QR-FRM/src/longstaff_schwartz_pricer.py\n",
      "✓ Output directory: /Users/alexanderithakis/Documents/GitHub/D4PG-QR-FRM/Longstaff Schwartz Pricer\n"
     ]
    }
   ],
   "source": [
    "# Import Required Libraries\n",
    "import os\n",
    "import sys\n",
    "import subprocess\n",
    "import json\n",
    "import time\n",
    "import pandas as pd\n",
    "import numpy as np\n",
    "import matplotlib.pyplot as plt\n",
    "import seaborn as sns\n",
    "import plotly.express as px\n",
    "import plotly.graph_objects as go\n",
    "from plotly.subplots import make_subplots\n",
    "import warnings\n",
    "from itertools import product\n",
    "from pathlib import Path\n",
    "\n",
    "# Configure plotting\n",
    "plt.style.use('seaborn-v0_8')\n",
    "sns.set_palette(\"husl\")\n",
    "warnings.filterwarnings('ignore')\n",
    "\n",
    "# Set up paths\n",
    "PROJECT_ROOT = '/Users/alexanderithakis/Documents/GitHub/D4PG-QR-FRM'\n",
    "PRICER_SCRIPT = os.path.join(PROJECT_ROOT, 'src', 'longstaff_schwartz_pricer.py')\n",
    "OUTPUT_DIR = os.path.join(PROJECT_ROOT, 'Longstaff Schwartz Pricer')\n",
    "\n",
    "print(\"✓ Libraries imported successfully\")\n",
    "print(f\"✓ Project root: {PROJECT_ROOT}\")\n",
    "print(f\"✓ LSM Pricer script: {PRICER_SCRIPT}\")\n",
    "print(f\"✓ Output directory: {OUTPUT_DIR}\")"
   ]
  },
  {
   "cell_type": "markdown",
   "id": "08f4f4f2",
   "metadata": {},
   "source": [
    "## 1. Define Contract and Stochastic Process Parameters\n",
    "\n",
    "We use the exact same parameters as specified in `run_lsm.sh` to ensure consistency with the existing benchmarking framework."
   ]
  },
  {
   "cell_type": "code",
   "execution_count": 23,
   "id": "f07a5e27",
   "metadata": {},
   "outputs": [
    {
     "name": "stdout",
     "output_type": "stream",
     "text": [
      "=== Monthly Swing Option Configuration ===\n",
      "Simulation: 16,384 paths, seed=11\n",
      "Contract: Strike=$100.0, Maturity=0.0833y\n",
      "Exercise: 0.0-2.0 daily, 0.0-20.0 total\n",
      "Market: S0=$100.0, α=12.0, σ=1.2\n",
      "Jumps: λ=6.0, μ_J=0.3, β=150.0\n",
      "Risk-free rate: 5.0%\n",
      "\n",
      "✓ Base arguments prepared (36 parameters)\n"
     ]
    }
   ],
   "source": [
    "# Contract and Simulation Parameters (from run_lsm.sh)\n",
    "SIMULATION_PARAMS = {\n",
    "    'n_paths': 16384,           # Number of Monte Carlo paths\n",
    "    'seed': 11,                 # Random seed for reproducibility\n",
    "    'name': 'MonthlySwing_LSM'  # Run name for output files\n",
    "}\n",
    "\n",
    "# Monthly Swing Option Contract Parameters\n",
    "CONTRACT_PARAMS = {\n",
    "    'strike': 100.0,            # At-the-money strike\n",
    "    'maturity': 0.0833,         # 1 month = 1/12 year\n",
    "    'n_rights': 22,             # ~22 trading days in a month\n",
    "    'q_min': 0.0,               # No minimum exercise requirement per day\n",
    "    'q_max': 2.0,               # Max 2 units per day (reasonable daily limit)\n",
    "    'Q_min': 0.0,               # No minimum total exercise requirement\n",
    "    'Q_max': 20.0,              # Max 20 units total over the month (10 days worth)\n",
    "    'risk_free_rate': 0.05,     # 5% annual risk-free rate\n",
    "    'min_refraction_days': 0    # No refraction period (can exercise daily)\n",
    "}\n",
    "\n",
    "# Market Process Parameters (HHK with jumps - monthly calibration)\n",
    "MARKET_PARAMS = {\n",
    "    'S0': 100.0,                # Initial spot price\n",
    "    'alpha': 12.0,              # Higher mean reversion for monthly timeframe\n",
    "    'sigma': 1.2,               # Moderate volatility for monthly period\n",
    "    'beta': 150.0,              # Jump decay rate\n",
    "    'lam': 6.0,                 # Jump intensity (6 jumps per year average)\n",
    "    'mu_J': 0.3                 # Mean jump size (30%)\n",
    "}\n",
    "\n",
    "# Display parameter summary\n",
    "print(\"=== Monthly Swing Option Configuration ===\")\n",
    "print(f\"Simulation: {SIMULATION_PARAMS['n_paths']:,} paths, seed={SIMULATION_PARAMS['seed']}\")\n",
    "print(f\"Contract: Strike=${CONTRACT_PARAMS['strike']}, Maturity={CONTRACT_PARAMS['maturity']:.4f}y\")\n",
    "print(f\"Exercise: {CONTRACT_PARAMS['q_min']}-{CONTRACT_PARAMS['q_max']} daily, {CONTRACT_PARAMS['Q_min']}-{CONTRACT_PARAMS['Q_max']} total\")\n",
    "print(f\"Market: S0=${MARKET_PARAMS['S0']}, α={MARKET_PARAMS['alpha']}, σ={MARKET_PARAMS['sigma']}\")\n",
    "print(f\"Jumps: λ={MARKET_PARAMS['lam']}, μ_J={MARKET_PARAMS['mu_J']}, β={MARKET_PARAMS['beta']}\")\n",
    "print(f\"Risk-free rate: {CONTRACT_PARAMS['risk_free_rate']:.1%}\")\n",
    "\n",
    "# Create base command arguments\n",
    "BASE_ARGS = []\n",
    "for key, value in SIMULATION_PARAMS.items():\n",
    "    if key == 'name':\n",
    "        BASE_ARGS.extend(['-name', str(value)])\n",
    "    else:\n",
    "        BASE_ARGS.extend([f'-{key}', str(value)])\n",
    "\n",
    "for key, value in CONTRACT_PARAMS.items():\n",
    "    BASE_ARGS.extend([f'--{key}', str(value)])\n",
    "    \n",
    "for key, value in MARKET_PARAMS.items():\n",
    "    BASE_ARGS.extend([f'--{key}', str(value)])\n",
    "\n",
    "print(f\"\\n✓ Base arguments prepared ({len(BASE_ARGS)} parameters)\")"
   ]
  },
  {
   "cell_type": "markdown",
   "id": "14574356",
   "metadata": {},
   "source": [
    "## 2. List and Describe Available LSM Pricer Options\n",
    "\n",
    "The enhanced Longstaff-Schwartz pricer offers multiple methodological choices that can significantly impact pricing accuracy and computational efficiency."
   ]
  },
  {
   "cell_type": "code",
   "execution_count": 24,
   "id": "ce83e9b8",
   "metadata": {},
   "outputs": [
    {
     "name": "stdout",
     "output_type": "stream",
     "text": [
      "=== Enhanced LSM Pricer Configuration Options ===\n",
      "\n",
      "📊 BASIS TYPE\n",
      "   Description: Type of basis functions for regression\n",
      "   Choices: ['polynomial', 'legendre', 'spline', 'random_forest']\n",
      "   Details:\n",
      "     • polynomial: Standard polynomial basis (x, x², x³, ...)\n",
      "     • legendre: Orthogonal Legendre polynomials (better numerical stability)\n",
      "     • spline: Cubic spline basis functions (smooth non-parametric)\n",
      "     • random_forest: Machine learning ensemble method\n",
      "\n",
      "📊 POLYNOMIAL DEGREE\n",
      "   Description: Degree of polynomial basis functions\n",
      "   Choices: [2, 3, 4, 5]\n",
      "\n",
      "📊 REGULARIZATION\n",
      "   Description: Regularization method for regression\n",
      "   Choices: ['none', 'ridge', 'lasso']\n",
      "   Details:\n",
      "     • none: Ordinary least squares (no regularization)\n",
      "     • ridge: L2 regularization (prevents overfitting, keeps all features)\n",
      "     • lasso: L1 regularization (feature selection, sparse solutions)\n",
      "\n",
      "📊 REG ALPHA\n",
      "   Description: Regularization strength parameter\n",
      "   Choices: [0.001, 0.01, 0.1, 0.5]\n",
      "\n",
      "📊 USE CROSS VALIDATION\n",
      "   Description: Whether to use cross-validation for hyperparameter tuning\n",
      "   Choices: [True, False]\n",
      "\n",
      "📊 CONVERGENCE TEST\n",
      "   Description: Whether to perform convergence analysis\n",
      "   Choices: [True, False]\n",
      "\n",
      "📈 Total possible configurations: 768\n",
      "🎯 We'll test a representative subset for comprehensive analysis\n",
      "\n",
      "🎯 Selected 14 focused configurations for detailed analysis\n",
      "   This covers all major methodological dimensions systematically\n"
     ]
    }
   ],
   "source": [
    "# Define all available LSM pricer configuration options\n",
    "LSM_OPTIONS = {\n",
    "    'basis_type': {\n",
    "        'choices': ['polynomial', 'legendre', 'spline', 'random_forest'],\n",
    "        'description': 'Type of basis functions for regression',\n",
    "        'details': {\n",
    "            'polynomial': 'Standard polynomial basis (x, x², x³, ...)',\n",
    "            'legendre': 'Orthogonal Legendre polynomials (better numerical stability)',\n",
    "            'spline': 'Cubic spline basis functions (smooth non-parametric)',\n",
    "            'random_forest': 'Machine learning ensemble method'\n",
    "        }\n",
    "    },\n",
    "    'polynomial_degree': {\n",
    "        'choices': [2, 3, 4, 5],\n",
    "        'description': 'Degree of polynomial basis functions',\n",
    "        'details': {\n",
    "            2: 'Quadratic basis (fast, may underfit)',\n",
    "            3: 'Cubic basis (standard choice, good balance)',\n",
    "            4: 'Quartic basis (more flexible, risk of overfitting)',\n",
    "            5: 'Quintic basis (high flexibility, computationally intensive)'\n",
    "        }\n",
    "    },\n",
    "    'regularization': {\n",
    "        'choices': ['none', 'ridge', 'lasso'],\n",
    "        'description': 'Regularization method for regression',\n",
    "        'details': {\n",
    "            'none': 'Ordinary least squares (no regularization)',\n",
    "            'ridge': 'L2 regularization (prevents overfitting, keeps all features)',\n",
    "            'lasso': 'L1 regularization (feature selection, sparse solutions)'\n",
    "        }\n",
    "    },\n",
    "    'reg_alpha': {\n",
    "        'choices': [0.001, 0.01, 0.1, 0.5],\n",
    "        'description': 'Regularization strength parameter',\n",
    "        'details': {\n",
    "            0.001: 'Very weak regularization',\n",
    "            0.01: 'Mild regularization (default)',\n",
    "            0.1: 'Moderate regularization', \n",
    "            0.5: 'Strong regularization'\n",
    "        }\n",
    "    },\n",
    "    'use_cross_validation': {\n",
    "        'choices': [True, False],\n",
    "        'description': 'Whether to use cross-validation for hyperparameter tuning',\n",
    "        'details': {\n",
    "            True: 'Use 5-fold CV for optimal regularization parameter',\n",
    "            False: 'Use fixed regularization parameter'\n",
    "        }\n",
    "    },\n",
    "    'convergence_test': {\n",
    "        'choices': [True, False],\n",
    "        'description': 'Whether to perform convergence analysis',\n",
    "        'details': {\n",
    "            True: 'Test pricing convergence with varying path counts',\n",
    "            False: 'Single pricing run with fixed path count'\n",
    "        }\n",
    "    }\n",
    "}\n",
    "\n",
    "# Display available options\n",
    "print(\"=== Enhanced LSM Pricer Configuration Options ===\\n\")\n",
    "total_combinations = 1\n",
    "for option_name, option_config in LSM_OPTIONS.items():\n",
    "    print(f\"📊 {option_name.upper().replace('_', ' ')}\")\n",
    "    print(f\"   Description: {option_config['description']}\")\n",
    "    print(f\"   Choices: {option_config['choices']}\")\n",
    "    total_combinations *= len(option_config['choices'])\n",
    "    \n",
    "    # Show details for key options\n",
    "    if option_name in ['basis_type', 'regularization']:\n",
    "        print(\"   Details:\")\n",
    "        for choice, detail in option_config['details'].items():\n",
    "            print(f\"     • {choice}: {detail}\")\n",
    "    print()\n",
    "\n",
    "print(f\"📈 Total possible configurations: {total_combinations:,}\")\n",
    "print(f\"🎯 We'll test a representative subset for comprehensive analysis\")\n",
    "\n",
    "# Create a focused set of configurations for analysis\n",
    "FOCUSED_CONFIGS = [\n",
    "    # Core comparison: different basis types with standard settings\n",
    "    {'basis_type': 'polynomial', 'polynomial_degree': 3, 'regularization': 'ridge', 'reg_alpha': 0.01},\n",
    "    {'basis_type': 'legendre', 'polynomial_degree': 3, 'regularization': 'ridge', 'reg_alpha': 0.01},\n",
    "    {'basis_type': 'spline', 'polynomial_degree': 3, 'regularization': 'ridge', 'reg_alpha': 0.01},\n",
    "    {'basis_type': 'random_forest', 'polynomial_degree': 3, 'regularization': 'none', 'reg_alpha': 0.01},\n",
    "    \n",
    "    # Polynomial degree sensitivity (using polynomial basis)\n",
    "    {'basis_type': 'polynomial', 'polynomial_degree': 2, 'regularization': 'ridge', 'reg_alpha': 0.01},\n",
    "    {'basis_type': 'polynomial', 'polynomial_degree': 4, 'regularization': 'ridge', 'reg_alpha': 0.01},\n",
    "    {'basis_type': 'polynomial', 'polynomial_degree': 5, 'regularization': 'ridge', 'reg_alpha': 0.01},\n",
    "    \n",
    "    # Regularization comparison (using polynomial basis, degree 3)\n",
    "    {'basis_type': 'polynomial', 'polynomial_degree': 3, 'regularization': 'none', 'reg_alpha': 0.01},\n",
    "    {'basis_type': 'polynomial', 'polynomial_degree': 3, 'regularization': 'lasso', 'reg_alpha': 0.01},\n",
    "    \n",
    "    # Regularization strength sensitivity (ridge, polynomial, degree 3)\n",
    "    {'basis_type': 'polynomial', 'polynomial_degree': 3, 'regularization': 'ridge', 'reg_alpha': 0.001},\n",
    "    {'basis_type': 'polynomial', 'polynomial_degree': 3, 'regularization': 'ridge', 'reg_alpha': 0.1},\n",
    "    {'basis_type': 'polynomial', 'polynomial_degree': 3, 'regularization': 'ridge', 'reg_alpha': 0.5},\n",
    "    \n",
    "    # Cross-validation analysis\n",
    "    {'basis_type': 'polynomial', 'polynomial_degree': 3, 'regularization': 'ridge', 'reg_alpha': 0.01, 'use_cross_validation': True},\n",
    "    {'basis_type': 'legendre', 'polynomial_degree': 3, 'regularization': 'ridge', 'reg_alpha': 0.01, 'use_cross_validation': True},\n",
    "]\n",
    "\n",
    "print(f\"\\n🎯 Selected {len(FOCUSED_CONFIGS)} focused configurations for detailed analysis\")\n",
    "print(\"   This covers all major methodological dimensions systematically\")"
   ]
  },
  {
   "cell_type": "markdown",
   "id": "31b99d83",
   "metadata": {},
   "source": [
    "## 3. Run Pricing for Each LSM Pricer Option\n",
    "\n",
    "Execute the enhanced LSM pricer with each configuration and collect the results systematically."
   ]
  },
  {
   "cell_type": "code",
   "execution_count": 25,
   "id": "692c73ad",
   "metadata": {},
   "outputs": [
    {
     "name": "stdout",
     "output_type": "stream",
     "text": [
      "=== Starting Comprehensive LSM Pricing Analysis ===\n",
      "Total configurations to test: 14\n",
      "Estimated total runtime: 28-70 minutes\n",
      "============================================================\n",
      "🚀 Running LSM pricing: Config_01 (basis=polynomial, deg=3, reg=ridge, alpha=0.01)\n",
      "   Command: --polynomial_degree 3 --regularization ridge --reg_alpha 0.01\n",
      "   ✓ Completed in 2.6s\n",
      "\n",
      "🚀 Running LSM pricing: Config_02 (basis=legendre, deg=3, reg=ridge, alpha=0.01)\n",
      "   Command: --polynomial_degree 3 --regularization ridge --reg_alpha 0.01\n",
      "   ✓ Completed in 2.3s\n",
      "\n",
      "🚀 Running LSM pricing: Config_03 (basis=spline, deg=3, reg=ridge, alpha=0.01)\n",
      "   Command: --polynomial_degree 3 --regularization ridge --reg_alpha 0.01\n",
      "   ✓ Completed in 3.7s\n",
      "\n",
      "🚀 Running LSM pricing: Config_04 (basis=random_forest, deg=3, reg=none)\n",
      "   Command: --polynomial_degree 3 --regularization none --reg_alpha 0.01\n",
      "   ✓ Completed in 202.7s\n",
      "\n",
      "🚀 Running LSM pricing: Config_05 (basis=polynomial, deg=2, reg=ridge, alpha=0.01)\n",
      "   Command: --polynomial_degree 2 --regularization ridge --reg_alpha 0.01\n",
      "   ✓ Completed in 3.1s\n",
      "\n",
      "🚀 Running LSM pricing: Config_06 (basis=polynomial, deg=4, reg=ridge, alpha=0.01)\n",
      "   Command: --polynomial_degree 4 --regularization ridge --reg_alpha 0.01\n",
      "   ✓ Completed in 2.2s\n",
      "\n",
      "🚀 Running LSM pricing: Config_07 (basis=polynomial, deg=5, reg=ridge, alpha=0.01)\n",
      "   Command: --polynomial_degree 5 --regularization ridge --reg_alpha 0.01\n",
      "   ✓ Completed in 2.4s\n",
      "\n",
      "🚀 Running LSM pricing: Config_08 (basis=polynomial, deg=3, reg=none)\n",
      "   Command: --polynomial_degree 3 --regularization none --reg_alpha 0.01\n",
      "   ✓ Completed in 2.2s\n",
      "\n",
      "🚀 Running LSM pricing: Config_09 (basis=polynomial, deg=3, reg=lasso, alpha=0.01)\n",
      "   Command: --polynomial_degree 3 --regularization lasso --reg_alpha 0.01\n",
      "   ✓ Completed in 2.3s\n",
      "\n",
      "🚀 Running LSM pricing: Config_10 (basis=polynomial, deg=3, reg=ridge, alpha=0.001)\n",
      "   Command: --polynomial_degree 3 --regularization ridge --reg_alpha 0.001\n",
      "   ✓ Completed in 2.3s\n",
      "\n",
      "🚀 Running LSM pricing: Config_11 (basis=polynomial, deg=3, reg=ridge, alpha=0.1)\n",
      "   Command: --polynomial_degree 3 --regularization ridge --reg_alpha 0.1\n",
      "   ✓ Completed in 2.2s\n",
      "\n",
      "🚀 Running LSM pricing: Config_12 (basis=polynomial, deg=3, reg=ridge, alpha=0.5)\n",
      "   Command: --polynomial_degree 3 --regularization ridge --reg_alpha 0.5\n",
      "   ✓ Completed in 2.3s\n",
      "\n",
      "🚀 Running LSM pricing: Config_13 (basis=polynomial, deg=3, reg=ridge, alpha=0.01, CV)\n",
      "   Command: 3 --regularization ridge --reg_alpha 0.01 --use_cross_validation\n",
      "   ✓ Completed in 2.2s\n",
      "\n",
      "🚀 Running LSM pricing: Config_14 (basis=legendre, deg=3, reg=ridge, alpha=0.01, CV)\n",
      "   Command: 3 --regularization ridge --reg_alpha 0.01 --use_cross_validation\n",
      "   ✓ Completed in 2.4s\n",
      "\n",
      "============================================================\n",
      "🎉 Analysis Complete!\n",
      "✓ Successful runs: 14\n",
      "❌ Failed runs: 0\n",
      "\n",
      "📊 Ready for results analysis with 14 successful pricing runs\n"
     ]
    }
   ],
   "source": [
    "def run_lsm_pricing(config, config_name, timeout=300):\n",
    "    \"\"\"\n",
    "    Run LSM pricing with a specific configuration\n",
    "    \n",
    "    Args:\n",
    "        config: Dictionary of LSM-specific parameters\n",
    "        config_name: Human-readable name for this configuration\n",
    "        timeout: Maximum runtime in seconds\n",
    "        \n",
    "    Returns:\n",
    "        Dictionary with pricing results and metadata\n",
    "    \"\"\"\n",
    "    print(f\"🚀 Running LSM pricing: {config_name}\")\n",
    "    \n",
    "    # Build command arguments\n",
    "    cmd_args = ['python', PRICER_SCRIPT] + BASE_ARGS.copy()\n",
    "    \n",
    "    # Add LSM-specific parameters\n",
    "    for param, value in config.items():\n",
    "        if isinstance(value, bool):\n",
    "            if value:  # Only add flag if True\n",
    "                cmd_args.append(f'--{param}')\n",
    "        else:\n",
    "            cmd_args.extend([f'--{param}', str(value)])\n",
    "    \n",
    "    # Create unique run name to avoid file conflicts\n",
    "    run_name = f\"LSM_Analysis_{config_name.replace(' ', '_').replace('=', '').replace(',', '_')}\"\n",
    "    cmd_args[cmd_args.index('-name') + 1] = run_name\n",
    "    \n",
    "    try:\n",
    "        start_time = time.time()\n",
    "        \n",
    "        # Run the pricing\n",
    "        print(f\"   Command: {' '.join(cmd_args[-6:])}\")  # Show last few arguments\n",
    "        result = subprocess.run(\n",
    "            cmd_args, \n",
    "            capture_output=True, \n",
    "            text=True, \n",
    "            timeout=timeout,\n",
    "            cwd=PROJECT_ROOT\n",
    "        )\n",
    "        \n",
    "        execution_time = time.time() - start_time\n",
    "        \n",
    "        if result.returncode == 0:\n",
    "            print(f\"   ✓ Completed in {execution_time:.1f}s\")\n",
    "            \n",
    "            # Try to parse results\n",
    "            results_file = os.path.join(OUTPUT_DIR, run_name, f\"{run_name}_results.txt\")\n",
    "            csv_file = os.path.join(OUTPUT_DIR, run_name, f\"{run_name}_solution.csv\")\n",
    "            \n",
    "            pricing_result = {\n",
    "                'config_name': config_name,\n",
    "                'config': config.copy(),\n",
    "                'run_name': run_name,\n",
    "                'execution_time': execution_time,\n",
    "                'success': True,\n",
    "                'results_file': results_file,\n",
    "                'csv_file': csv_file,\n",
    "                'stdout': result.stdout,\n",
    "                'stderr': result.stderr\n",
    "            }\n",
    "            \n",
    "            # Try to extract key metrics from output\n",
    "            try:\n",
    "                if os.path.exists(results_file):\n",
    "                    with open(results_file, 'r') as f:\n",
    "                        results_content = f.read()\n",
    "                        \n",
    "                    # Extract option value (look for pattern in output)\n",
    "                    import re\n",
    "                    price_match = re.search(r'Option Value.*?(\\d+\\.\\d+)', results_content)\n",
    "                    if price_match:\n",
    "                        pricing_result['option_value'] = float(price_match.group(1))\n",
    "                    \n",
    "                    # Extract standard error if available\n",
    "                    se_match = re.search(r'Standard Error.*?(\\d+\\.\\d+)', results_content)\n",
    "                    if se_match:\n",
    "                        pricing_result['standard_error'] = float(se_match.group(1))\n",
    "                        \n",
    "                    pricing_result['results_content'] = results_content\n",
    "                    \n",
    "            except Exception as parse_error:\n",
    "                print(f\"   ⚠ Warning: Could not parse results file: {parse_error}\")\n",
    "                pricing_result['parse_error'] = str(parse_error)\n",
    "            \n",
    "            return pricing_result\n",
    "            \n",
    "        else:\n",
    "            print(f\"   ❌ Failed with return code {result.returncode}\")\n",
    "            print(f\"   Error: {result.stderr[:200]}...\")\n",
    "            \n",
    "            return {\n",
    "                'config_name': config_name,\n",
    "                'config': config.copy(),\n",
    "                'run_name': run_name,\n",
    "                'execution_time': execution_time,\n",
    "                'success': False,\n",
    "                'error': result.stderr,\n",
    "                'stdout': result.stdout\n",
    "            }\n",
    "            \n",
    "    except subprocess.TimeoutExpired:\n",
    "        print(f\"   ⏰ Timeout after {timeout}s\")\n",
    "        return {\n",
    "            'config_name': config_name,\n",
    "            'config': config.copy(),\n",
    "            'execution_time': timeout,\n",
    "            'success': False,\n",
    "            'error': 'Timeout'\n",
    "        }\n",
    "    except Exception as e:\n",
    "        print(f\"   💥 Exception: {e}\")\n",
    "        return {\n",
    "            'config_name': config_name,\n",
    "            'config': config.copy(),\n",
    "            'execution_time': 0,\n",
    "            'success': False,\n",
    "            'error': str(e)\n",
    "        }\n",
    "\n",
    "# Prepare results storage\n",
    "pricing_results = []\n",
    "failed_runs = []\n",
    "\n",
    "print(\"=== Starting Comprehensive LSM Pricing Analysis ===\")\n",
    "print(f\"Total configurations to test: {len(FOCUSED_CONFIGS)}\")\n",
    "print(f\"Estimated total runtime: {len(FOCUSED_CONFIGS) * 2:.0f}-{len(FOCUSED_CONFIGS) * 5:.0f} minutes\")\n",
    "print(\"=\" * 60)\n",
    "\n",
    "# Execute all configurations\n",
    "for i, config in enumerate(FOCUSED_CONFIGS, 1):\n",
    "    # Create descriptive name for this configuration\n",
    "    config_name = f\"Config_{i:02d}\"\n",
    "    \n",
    "    # Add key distinguishing features to name\n",
    "    name_parts = []\n",
    "    if 'basis_type' in config:\n",
    "        name_parts.append(f\"basis={config['basis_type']}\")\n",
    "    if 'polynomial_degree' in config:\n",
    "        name_parts.append(f\"deg={config['polynomial_degree']}\")\n",
    "    if 'regularization' in config:\n",
    "        name_parts.append(f\"reg={config['regularization']}\")\n",
    "    if 'reg_alpha' in config and config.get('regularization') != 'none':\n",
    "        name_parts.append(f\"alpha={config['reg_alpha']}\")\n",
    "    if config.get('use_cross_validation'):\n",
    "        name_parts.append(\"CV\")\n",
    "    \n",
    "    config_name += f\" ({', '.join(name_parts)})\"\n",
    "    \n",
    "    # Run pricing\n",
    "    result = run_lsm_pricing(config, config_name)\n",
    "    \n",
    "    if result['success']:\n",
    "        pricing_results.append(result)\n",
    "    else:\n",
    "        failed_runs.append(result)\n",
    "    \n",
    "    print()\n",
    "\n",
    "print(\"=\" * 60)\n",
    "print(f\"🎉 Analysis Complete!\")\n",
    "print(f\"✓ Successful runs: {len(pricing_results)}\")\n",
    "print(f\"❌ Failed runs: {len(failed_runs)}\")\n",
    "\n",
    "if failed_runs:\n",
    "    print(\"\\nFailed configurations:\")\n",
    "    for run in failed_runs:\n",
    "        print(f\"  • {run['config_name']}: {run.get('error', 'Unknown error')}\")\n",
    "\n",
    "print(f\"\\n📊 Ready for results analysis with {len(pricing_results)} successful pricing runs\")"
   ]
  },
  {
   "cell_type": "markdown",
   "id": "f39d0012",
   "metadata": {},
   "source": [
    "## 4. Aggregate and Visualize Pricing Results\n",
    "\n",
    "Parse the detailed results from each pricing run and create comprehensive visualizations to understand the impact of different methodological choices."
   ]
  },
  {
   "cell_type": "code",
   "execution_count": 19,
   "id": "d103cee8",
   "metadata": {},
   "outputs": [
    {
     "name": "stdout",
     "output_type": "stream",
     "text": [
      "📊 Parsing detailed results from all pricing runs...\n",
      "✓ Parsed 14 pricing results\n",
      "✓ Generated comprehensive results DataFrame with 24 metrics\n",
      "\n",
      "=== Pricing Results Summary ===\n",
      "Valid Results: 14 out of 14\n",
      "Option Value Range: €241.92 - €254.48\n",
      "Mean Option Value: €249.95 ± €4.32\n",
      "Execution Time Range: 2.2s - 194.3s\n",
      "Most Efficient Config: legendre-3-ridge-0.01\n",
      "Highest Value Config: random_forest-3-none\n",
      "\n",
      "💾 Results saved to: LSM_Analysis_Results_Summary.csv\n",
      "\n",
      "📋 Sample Results:\n",
      "         config_summary  option_value  standard_error  execution_time\n",
      "polynomial-3-ridge-0.01    252.783873        3.533235        2.608977\n",
      "  legendre-3-ridge-0.01    252.203855        3.382112        2.271165\n",
      "    spline-3-ridge-0.01    247.675742        2.765542        3.806391\n",
      "   random_forest-3-none    254.475208        3.417536      194.250098\n",
      "polynomial-2-ridge-0.01    242.353143        1.827960        2.676603\n",
      "polynomial-4-ridge-0.01    241.923667        1.847180        2.233215\n",
      "polynomial-5-ridge-0.01    243.624143        1.824136        2.330999\n",
      "      polynomial-3-none    253.599741        3.738458        2.288981\n"
     ]
    }
   ],
   "source": [
    "def parse_detailed_results(result):\n",
    "    \"\"\"\n",
    "    Parse detailed results from LSM pricing output files\n",
    "    \n",
    "    Args:\n",
    "        result: Result dictionary from run_lsm_pricing\n",
    "        \n",
    "    Returns:\n",
    "        Dictionary with extracted metrics\n",
    "    \"\"\"\n",
    "    parsed = {\n",
    "        'config_name': result['config_name'],\n",
    "        'run_name': result['run_name'],\n",
    "        'execution_time': result['execution_time'],\n",
    "        'option_value': None,\n",
    "        'standard_error': None,\n",
    "        'confidence_interval_lower': None,\n",
    "        'confidence_interval_upper': None,\n",
    "        'exercise_probability': None,\n",
    "        'convergence_iterations': None,\n",
    "        'r_squared': None,\n",
    "        'mean_squared_error': None\n",
    "    }\n",
    "    \n",
    "    # Extract configuration details\n",
    "    config = result['config']\n",
    "    parsed.update({\n",
    "        'basis_type': config.get('basis_type', 'unknown'),\n",
    "        'polynomial_degree': config.get('polynomial_degree', 0),\n",
    "        'regularization': config.get('regularization', 'unknown'),\n",
    "        'reg_alpha': config.get('reg_alpha', 0),\n",
    "        'use_cross_validation': config.get('use_cross_validation', False),\n",
    "        'convergence_test': config.get('convergence_test', False)\n",
    "    })\n",
    "    \n",
    "    # Try to find and read the results file\n",
    "    run_name = result['run_name']\n",
    "    results_file = None\n",
    "    csv_file = None\n",
    "    \n",
    "    # Check multiple possible file locations and names\n",
    "    possible_paths = [\n",
    "        os.path.join(OUTPUT_DIR, run_name, f\"{run_name}_results.txt\"),\n",
    "        os.path.join(OUTPUT_DIR, run_name, f\"{run_name}_solution.csv\"),\n",
    "    ]\n",
    "    \n",
    "    # Also check if the directory name is different (with special characters)\n",
    "    base_dir = OUTPUT_DIR\n",
    "    if os.path.exists(base_dir):\n",
    "        for dir_name in os.listdir(base_dir):\n",
    "            if run_name in dir_name and os.path.isdir(os.path.join(base_dir, dir_name)):\n",
    "                # Found a matching directory\n",
    "                possible_paths.extend([\n",
    "                    os.path.join(base_dir, dir_name, f\"{dir_name}_results.txt\"),\n",
    "                    os.path.join(base_dir, dir_name, f\"{run_name}_results.txt\"),\n",
    "                    os.path.join(base_dir, dir_name, f\"{dir_name}_solution.csv\"),\n",
    "                    os.path.join(base_dir, dir_name, f\"{run_name}_solution.csv\"),\n",
    "                ])\n",
    "                break\n",
    "    \n",
    "    # Find the actual results file\n",
    "    for path in possible_paths:\n",
    "        if os.path.exists(path):\n",
    "            if path.endswith('_results.txt'):\n",
    "                results_file = path\n",
    "            elif path.endswith('_solution.csv'):\n",
    "                csv_file = path\n",
    "    \n",
    "    # Parse results file if found\n",
    "    if results_file and os.path.exists(results_file):\n",
    "        try:\n",
    "            with open(results_file, 'r') as f:\n",
    "                content = f.read()\n",
    "            \n",
    "            # Extract key metrics using regex patterns\n",
    "            import re\n",
    "            \n",
    "            # Option value - multiple patterns to catch different formats\n",
    "            price_patterns = [\n",
    "                r'Option Value[:\\s]*\\$?(\\d+\\.?\\d*)',\n",
    "                r'Final Option Value[:\\s]*\\$?(\\d+\\.?\\d*)',\n",
    "                r'Swing Option Price[:\\s]*\\$?(\\d+\\.?\\d*)',\n",
    "                r'Price[:\\s]*\\$?(\\d+\\.?\\d*)'\n",
    "            ]\n",
    "            for pattern in price_patterns:\n",
    "                match = re.search(pattern, content, re.IGNORECASE)\n",
    "                if match:\n",
    "                    parsed['option_value'] = float(match.group(1))\n",
    "                    break\n",
    "            \n",
    "            # Standard error\n",
    "            se_patterns = [\n",
    "                r'Standard Error[:\\s]*\\$?(\\d+\\.?\\d*)',\n",
    "                r'Std Error[:\\s]*\\$?(\\d+\\.?\\d*)',\n",
    "                r'SE[:\\s]*\\$?(\\d+\\.?\\d*)'\n",
    "            ]\n",
    "            for pattern in se_patterns:\n",
    "                match = re.search(pattern, content, re.IGNORECASE)\n",
    "                if match:\n",
    "                    parsed['standard_error'] = float(match.group(1))\n",
    "                    break\n",
    "            \n",
    "            # Confidence interval\n",
    "            ci_patterns = [\n",
    "                r'95% Confidence Interval[:\\s]*\\[\\$?(\\d+\\.?\\d*),\\s*\\$?(\\d+\\.?\\d*)\\]',\n",
    "                r'Confidence Interval[:\\s]*\\[\\$?(\\d+\\.?\\d*),\\s*\\$?(\\d+\\.?\\d*)\\]'\n",
    "            ]\n",
    "            for pattern in ci_patterns:\n",
    "                ci_match = re.search(pattern, content, re.IGNORECASE)\n",
    "                if ci_match:\n",
    "                    parsed['confidence_interval_lower'] = float(ci_match.group(1))\n",
    "                    parsed['confidence_interval_upper'] = float(ci_match.group(2))\n",
    "                    break\n",
    "            \n",
    "            # R-squared\n",
    "            r2_patterns = [\n",
    "                r'Regression R[²2][:\\s]*(\\d+\\.?\\d*)',\n",
    "                r'R[²2][:\\s]*(\\d+\\.?\\d*)'\n",
    "            ]\n",
    "            for pattern in r2_patterns:\n",
    "                r2_match = re.search(pattern, content, re.IGNORECASE)\n",
    "                if r2_match:\n",
    "                    parsed['r_squared'] = float(r2_match.group(1))\n",
    "                    break\n",
    "            \n",
    "            # Expected total exercises\n",
    "            exercise_patterns = [\n",
    "                r'Expected Total Exercises[:\\s]*(\\d+\\.?\\d*)',\n",
    "                r'Total Exercises[:\\s]*(\\d+\\.?\\d*)'\n",
    "            ]\n",
    "            for pattern in exercise_patterns:\n",
    "                ex_match = re.search(pattern, content, re.IGNORECASE)\n",
    "                if ex_match:\n",
    "                    parsed['expected_exercises'] = float(ex_match.group(1))\n",
    "                    break\n",
    "            \n",
    "            # Exercise rate\n",
    "            rate_patterns = [\n",
    "                r'Exercise Rate[:\\s]*(\\d+\\.?\\d*)%',\n",
    "                r'Exercise Rate[:\\s]*(\\d+\\.?\\d*)'\n",
    "            ]\n",
    "            for pattern in rate_patterns:\n",
    "                rate_match = re.search(pattern, content, re.IGNORECASE)\n",
    "                if rate_match:\n",
    "                    parsed['exercise_rate'] = float(rate_match.group(1))\n",
    "                    break\n",
    "                    \n",
    "            parsed['results_content'] = content\n",
    "            \n",
    "        except Exception as e:\n",
    "            print(f\"Warning: Could not parse results file {results_file}: {e}\")\n",
    "    \n",
    "    # Try to load CSV file for additional analysis\n",
    "    if csv_file and os.path.exists(csv_file):\n",
    "        try:\n",
    "            csv_data = pd.read_csv(csv_file)\n",
    "            \n",
    "            # Calculate additional metrics from path data\n",
    "            if 'option_value' in csv_data.columns:\n",
    "                parsed['option_value_std'] = csv_data['option_value'].std()\n",
    "                parsed['option_value_min'] = csv_data['option_value'].min()\n",
    "                parsed['option_value_max'] = csv_data['option_value'].max()\n",
    "            \n",
    "            if 'total_exercise' in csv_data.columns:\n",
    "                parsed['avg_total_exercise'] = csv_data['total_exercise'].mean()\n",
    "                parsed['exercise_utilization'] = csv_data['total_exercise'].mean() / CONTRACT_PARAMS['Q_max']\n",
    "                \n",
    "        except Exception as e:\n",
    "            print(f\"Warning: Could not parse CSV for {result['config_name']}: {e}\")\n",
    "    \n",
    "    return parsed\n",
    "\n",
    "# Parse all successful results\n",
    "print(\"📊 Parsing detailed results from all pricing runs...\")\n",
    "\n",
    "parsed_results = []\n",
    "for result in pricing_results:\n",
    "    parsed = parse_detailed_results(result)\n",
    "    parsed_results.append(parsed)\n",
    "\n",
    "# Create comprehensive results DataFrame\n",
    "results_df = pd.DataFrame(parsed_results)\n",
    "\n",
    "# Convert numeric columns to proper data types and handle missing values\n",
    "numeric_columns = ['option_value', 'standard_error', 'execution_time', 'polynomial_degree', \n",
    "                  'reg_alpha', 'confidence_interval_lower', 'confidence_interval_upper',\n",
    "                  'r_squared', 'mean_squared_error', 'option_value_std', 'option_value_min',\n",
    "                  'option_value_max', 'avg_total_exercise', 'exercise_utilization',\n",
    "                  'expected_exercises', 'exercise_rate']\n",
    "\n",
    "for col in numeric_columns:\n",
    "    if col in results_df.columns:\n",
    "        results_df[col] = pd.to_numeric(results_df[col], errors='coerce')\n",
    "\n",
    "# Always create configuration summary regardless of valid data\n",
    "results_df['config_summary'] = results_df.apply(\n",
    "    lambda row: f\"{row['basis_type']}-{row['polynomial_degree']}-{row['regularization']}\" + \n",
    "               (f\"-{row['reg_alpha']}\" if row['regularization'] != 'none' else \"\") +\n",
    "               (\"-CV\" if row['use_cross_validation'] else \"\"), \n",
    "    axis=1\n",
    ")\n",
    "\n",
    "# Add computed columns only if we have valid data\n",
    "if not results_df.empty and results_df['option_value'].notna().any():\n",
    "    # Filter out rows with missing option values for calculations\n",
    "    valid_results = results_df[results_df['option_value'].notna()].copy()\n",
    "    \n",
    "    if not valid_results.empty:\n",
    "        # Relative performance metrics\n",
    "        polynomial_results = valid_results[valid_results['basis_type'] == 'polynomial']\n",
    "        if len(polynomial_results) > 0:\n",
    "            baseline_value = polynomial_results['option_value'].iloc[0]\n",
    "        else:\n",
    "            baseline_value = valid_results['option_value'].mean()\n",
    "        \n",
    "        # Calculate relative performance for all rows (will be NaN for missing values)\n",
    "        results_df['value_vs_baseline'] = ((results_df['option_value'] - baseline_value) / baseline_value * 100).round(2)\n",
    "        \n",
    "        # Efficiency metric (value per second) - only for valid data\n",
    "        valid_time_mask = (results_df['execution_time'] > 0) & results_df['execution_time'].notna()\n",
    "        results_df.loc[valid_time_mask, 'efficiency'] = (results_df.loc[valid_time_mask, 'option_value'] / results_df.loc[valid_time_mask, 'execution_time']).round(4)\n",
    "        \n",
    "        # Risk-adjusted metrics - only where both values are available\n",
    "        mask = results_df['option_value'].notna() & results_df['standard_error'].notna() & (results_df['standard_error'] > 0)\n",
    "        results_df.loc[mask, 'value_to_error_ratio'] = (results_df.loc[mask, 'option_value'] / results_df.loc[mask, 'standard_error']).round(2)\n",
    "\n",
    "print(f\"✓ Parsed {len(results_df)} pricing results\")\n",
    "print(f\"✓ Generated comprehensive results DataFrame with {len(results_df.columns)} metrics\")\n",
    "\n",
    "# Display summary statistics only for valid results\n",
    "valid_results = results_df[results_df['option_value'].notna()]\n",
    "if not valid_results.empty:\n",
    "    print(\"\\n=== Pricing Results Summary ===\")\n",
    "    print(f\"Valid Results: {len(valid_results)} out of {len(results_df)}\")\n",
    "    print(f\"Option Value Range: €{valid_results['option_value'].min():.2f} - €{valid_results['option_value'].max():.2f}\")\n",
    "    print(f\"Mean Option Value: €{valid_results['option_value'].mean():.2f} ± €{valid_results['option_value'].std():.2f}\")\n",
    "    print(f\"Execution Time Range: {valid_results['execution_time'].min():.1f}s - {valid_results['execution_time'].max():.1f}s\")\n",
    "    \n",
    "    if 'efficiency' in valid_results.columns and valid_results['efficiency'].notna().any():\n",
    "        best_efficiency_idx = valid_results['efficiency'].idxmax()\n",
    "        print(f\"Most Efficient Config: {valid_results.loc[best_efficiency_idx, 'config_summary']}\")\n",
    "    \n",
    "    if valid_results['option_value'].notna().any():\n",
    "        best_value_idx = valid_results['option_value'].idxmax()\n",
    "        print(f\"Highest Value Config: {valid_results.loc[best_value_idx, 'config_summary']}\")\n",
    "else:\n",
    "    print(\"\\n⚠️ No valid pricing results found - checking file structure...\")\n",
    "    \n",
    "    # Debug: list actual directories\n",
    "    if os.path.exists(OUTPUT_DIR):\n",
    "        print(f\"📁 Found directories in {OUTPUT_DIR}:\")\n",
    "        for item in os.listdir(OUTPUT_DIR):\n",
    "            item_path = os.path.join(OUTPUT_DIR, item)\n",
    "            if os.path.isdir(item_path):\n",
    "                print(f\"   📂 {item}\")\n",
    "                # List files in directory\n",
    "                files = os.listdir(item_path)\n",
    "                for file in files[:3]:  # Show first 3 files\n",
    "                    print(f\"      📄 {file}\")\n",
    "                if len(files) > 3:\n",
    "                    print(f\"      ... and {len(files)-3} more files\")\n",
    "\n",
    "# Save results for further analysis\n",
    "results_df.to_csv(os.path.join(PROJECT_ROOT, 'LSM_Analysis_Results_Summary.csv'), index=False)\n",
    "print(f\"\\n💾 Results saved to: LSM_Analysis_Results_Summary.csv\")\n",
    "\n",
    "# Display first few rows\n",
    "print(\"\\n📋 Sample Results:\")\n",
    "if not valid_results.empty:\n",
    "    display_cols = ['config_summary', 'option_value', 'standard_error', 'execution_time']\n",
    "    available_display_cols = [col for col in display_cols if col in valid_results.columns]\n",
    "    if available_display_cols:\n",
    "        print(valid_results[available_display_cols].head(8).to_string(index=False))\n",
    "else:\n",
    "    print(\"Configuration summary (parsing results files...):\")\n",
    "    basic_cols = ['config_summary', 'basis_type', 'regularization', 'polynomial_degree']\n",
    "    available_basic_cols = [col for col in basic_cols if col in results_df.columns]\n",
    "    if available_basic_cols and not results_df.empty:\n",
    "        print(results_df[available_basic_cols].head().to_string(index=False))"
   ]
  },
  {
   "cell_type": "code",
   "execution_count": 21,
   "id": "ed317b6f",
   "metadata": {},
   "outputs": [
    {
     "data": {
      "image/png": "[encoded data removed]",
      "text/plain": [
       "<Figure size 1600x1200 with 5 Axes>"
      ]
     },
     "metadata": {},
     "output_type": "display_data"
    },
    {
     "name": "stdout",
     "output_type": "stream",
     "text": [
      "\n",
      "🎯 Creating Interactive Plotly Visualizations...\n"
     ]
    },
    {
     "data": {
      "application/vnd.plotly.v1+json": {
       "config": {
        "plotlyServerURL": "https://plot.ly"
       },
       "data": [
        {
         "boxpoints": "all",
         "jitter": 0.3,
         "name": "polynomial",
         "pointpos": -1.8,
         "type": "box",
         "xaxis": "x",
         "y": {
          "bdata": "9WbUfBWZb0D2eYzyTEtuQJ+sGK6OPW5A4KC9+vhzbkBAogkUMbNvQE1KQbeXRm9AYi0+BcBnb0Btqu6RzXpvQHJtqBjnX29AWYrkK4GVb0A=",
          "dtype": "f8"
         },
         "yaxis": "y"
        },
        {
         "boxpoints": "all",
         "jitter": 0.3,
         "name": "legendre",
         "pointpos": -1.8,
         "type": "box",
         "xaxis": "x",
         "y": {
          "bdata": "CcTr+oWGb0CSzyueerZvQA==",
          "dtype": "f8"
         },
         "yaxis": "y"
        },
        {
         "boxpoints": "all",
         "jitter": 0.3,
         "name": "spline",
         "pointpos": -1.8,
         "type": "box",
         "xaxis": "x",
         "y": {
          "bdata": "FNGvrZ/1bkA=",
          "dtype": "f8"
         },
         "yaxis": "y"
        },
        {
         "boxpoints": "all",
         "jitter": 0.3,
         "name": "random_forest",
         "pointpos": -1.8,
         "type": "box",
         "xaxis": "x",
         "y": {
          "bdata": "hllo5zTPb0A=",
          "dtype": "f8"
         },
         "yaxis": "y"
        },
        {
         "hovertemplate": "<b>%{text}</b><br>Value: €%{y:.2f}<br>Std Error: €%{x:.3f}<br>Time: %{marker.color:.1f}s<extra></extra>",
         "marker": {
          "color": {
           "bdata": "AAAAQC/fBEAAAACgWCsCQAAAACB9cw5AAAAAzQBIaEAAAADgrmkFQAAAAOCf3QFAAAAA4OKlAkAAAABg1U8CQAAAAEAEkQJAAAAAIAMPA0AAAACA+FwCQAAAAKAtGQJAAAAAAF63AkAAAACgPNoCQA==",
           "dtype": "f8"
          },
          "colorbar": {
           "title": {
            "text": "Execution Time (s)"
           }
          },
          "colorscale": [
           [
            0,
            "#440154"
           ],
           [
            0.1111111111111111,
            "#482878"
           ],
           [
            0.2222222222222222,
            "#3e4989"
           ],
           [
            0.3333333333333333,
            "#31688e"
           ],
           [
            0.4444444444444444,
            "#26828e"
           ],
           [
            0.5555555555555556,
            "#1f9e89"
           ],
           [
            0.6666666666666666,
            "#35b779"
           ],
           [
            0.7777777777777778,
            "#6ece58"
           ],
           [
            0.8888888888888888,
            "#b5de2b"
           ],
           [
            1,
            "#fde725"
           ]
          ],
          "showscale": true,
          "size": 10
         },
         "mode": "markers",
         "name": "Configurations",
         "text": [
          "polynomial-3-ridge-0.01",
          "legendre-3-ridge-0.01",
          "spline-3-ridge-0.01",
          "random_forest-3-none",
          "polynomial-2-ridge-0.01",
          "polynomial-4-ridge-0.01",
          "polynomial-5-ridge-0.01",
          "polynomial-3-none",
          "polynomial-3-lasso-0.01",
          "polynomial-3-ridge-0.001",
          "polynomial-3-ridge-0.1",
          "polynomial-3-ridge-0.5",
          "polynomial-3-ridge-0.01-CV",
          "legendre-3-ridge-0.01-CV"
         ],
         "type": "scatter",
         "x": {
          "bdata": "FakwthBEDEDxRXu8kA4LQCi37XvUHwZApDhHHR1XC0CsVib8Uj/9P1k0nZ0Mjv0/00z3Oqkv/T+twfuqXOgNQJoJhnMNMwtA6SlyiLiZC0C2upwSEBMLQAFtq1lnPAtAjc9k/zztC0Beud42U4EMQA==",
          "dtype": "f8"
         },
         "xaxis": "x2",
         "y": {
          "bdata": "9WbUfBWZb0AJxOv6hYZvQBTRr62f9W5Ahllo5zTPb0D2eYzyTEtuQJ+sGK6OPW5A4KC9+vhzbkBAogkUMbNvQE1KQbeXRm9AYi0+BcBnb0Btqu6RzXpvQHJtqBjnX29AWYrkK4GVb0CSzyueerZvQA==",
          "dtype": "f8"
         },
         "yaxis": "y2"
        },
        {
         "marker": {
          "color": "lightblue"
         },
         "name": "Efficiency",
         "orientation": "h",
         "type": "bar",
         "x": {
          "bdata": "9ihcj8L19D/4wmSqYERQQHsUrkfholZAKVyPwvU4WEB3LSEf9CBaQBpR2ht8XVpAdQKaCBvqWkBAE2HD0/NaQPLSTWIQAFtAIo51cRsVW0Bos+pztW1bQC2yne+nsltA6SYxCKy8W0Bt5/up8cJbQA==",
          "dtype": "f8"
         },
         "xaxis": "x3",
         "y": [
          "random_forest-3-none",
          "spline-3-ridge-0.01",
          "polynomial-2-ridge-0.01",
          "polynomial-3-ridge-0.01",
          "polynomial-5-ridge-0.01",
          "polynomial-3-ridge-0.001",
          "legendre-3-ridge-0.01-CV",
          "polynomial-3-lasso-0.01",
          "polynomial-3-ridge-0.01-CV",
          "polynomial-4-ridge-0.01",
          "polynomial-3-ridge-0.1",
          "polynomial-3-none",
          "polynomial-3-ridge-0.5",
          "legendre-3-ridge-0.01"
         ],
         "yaxis": "y3"
        },
        {
         "line": {
          "width": 2
         },
         "marker": {
          "color": "red",
          "size": 10
         },
         "mode": "markers+lines",
         "name": "Ridge Regularization",
         "type": "scatter",
         "x": {
          "bdata": "exSuR+F6hD97FK5H4XqEP3sUrkfheoQ/exSuR+F6hD97FK5H4XqEP3sUrkfheoQ//Knx0k1iUD+amZmZmZm5PwAAAAAAAOA/exSuR+F6hD97FK5H4XqEPw==",
          "dtype": "f8"
         },
         "xaxis": "x4",
         "y": {
          "bdata": "9WbUfBWZb0AJxOv6hYZvQBTRr62f9W5A9nmM8kxLbkCfrBiujj1uQOCgvfr4c25AYi0+BcBnb0Btqu6RzXpvQHJtqBjnX29AWYrkK4GVb0CSzyueerZvQA==",
          "dtype": "f8"
         },
         "yaxis": "y4"
        }
       ],
       "layout": {
        "annotations": [
         {
          "font": {
           "size": 16
          },
          "showarrow": false,
          "text": "Option Value Distribution",
          "x": 0.225,
          "xanchor": "center",
          "xref": "paper",
          "y": 1,
          "yanchor": "bottom",
          "yref": "paper"
         },
         {
          "font": {
           "size": 16
          },
          "showarrow": false,
          "text": "Risk-Return Profile",
          "x": 0.775,
          "xanchor": "center",
          "xref": "paper",
          "y": 1,
          "yanchor": "bottom",
          "yref": "paper"
         },
         {
          "font": {
           "size": 16
          },
          "showarrow": false,
          "text": "Execution Efficiency",
          "x": 0.225,
          "xanchor": "center",
          "xref": "paper",
          "y": 0.375,
          "yanchor": "bottom",
          "yref": "paper"
         },
         {
          "font": {
           "size": 16
          },
          "showarrow": false,
          "text": "Regularization Impact",
          "x": 0.775,
          "xanchor": "center",
          "xref": "paper",
          "y": 0.375,
          "yanchor": "bottom",
          "yref": "paper"
         }
        ],
        "height": 800,
        "showlegend": true,
        "template": {
         "data": {
          "bar": [
           {
            "error_x": {
             "color": "#2a3f5f"
            },
            "error_y": {
             "color": "#2a3f5f"
            },
            "marker": {
             "line": {
              "color": "#E5ECF6",
              "width": 0.5
             },
             "pattern": {
              "fillmode": "overlay",
              "size": 10,
              "solidity": 0.2
             }
            },
            "type": "bar"
           }
          ],
          "barpolar": [
           {
            "marker": {
             "line": {
              "color": "#E5ECF6",
              "width": 0.5
             },
             "pattern": {
              "fillmode": "overlay",
              "size": 10,
              "solidity": 0.2
             }
            },
            "type": "barpolar"
           }
          ],
          "carpet": [
           {
            "aaxis": {
             "endlinecolor": "#2a3f5f",
             "gridcolor": "white",
             "linecolor": "white",
             "minorgridcolor": "white",
             "startlinecolor": "#2a3f5f"
            },
            "baxis": {
             "endlinecolor": "#2a3f5f",
             "gridcolor": "white",
             "linecolor": "white",
             "minorgridcolor": "white",
             "startlinecolor": "#2a3f5f"
            },
            "type": "carpet"
           }
          ],
          "choropleth": [
           {
            "colorbar": {
             "outlinewidth": 0,
             "ticks": ""
            },
            "type": "choropleth"
           }
          ],
          "contour": [
           {
            "colorbar": {
             "outlinewidth": 0,
             "ticks": ""
            },
            "colorscale": [
             [
              0,
              "#0d0887"
             ],
             [
              0.1111111111111111,
              "#46039f"
             ],
             [
              0.2222222222222222,
              "#7201a8"
             ],
             [
              0.3333333333333333,
              "#9c179e"
             ],
             [
              0.4444444444444444,
              "#bd3786"
             ],
             [
              0.5555555555555556,
              "#d8576b"
             ],
             [
              0.6666666666666666,
              "#ed7953"
             ],
             [
              0.7777777777777778,
              "#fb9f3a"
             ],
             [
              0.8888888888888888,
              "#fdca26"
             ],
             [
              1,
              "#f0f921"
             ]
            ],
            "type": "contour"
           }
          ],
          "contourcarpet": [
           {
            "colorbar": {
             "outlinewidth": 0,
             "ticks": ""
            },
            "type": "contourcarpet"
           }
          ],
          "heatmap": [
           {
            "colorbar": {
             "outlinewidth": 0,
             "ticks": ""
            },
            "colorscale": [
             [
              0,
              "#0d0887"
             ],
             [
              0.1111111111111111,
              "#46039f"
             ],
             [
              0.2222222222222222,
              "#7201a8"
             ],
             [
              0.3333333333333333,
              "#9c179e"
             ],
             [
              0.4444444444444444,
              "#bd3786"
             ],
             [
              0.5555555555555556,
              "#d8576b"
             ],
             [
              0.6666666666666666,
              "#ed7953"
             ],
             [
              0.7777777777777778,
              "#fb9f3a"
             ],
             [
              0.8888888888888888,
              "#fdca26"
             ],
             [
              1,
              "#f0f921"
             ]
            ],
            "type": "heatmap"
           }
          ],
          "histogram": [
           {
            "marker": {
             "pattern": {
              "fillmode": "overlay",
              "size": 10,
              "solidity": 0.2
             }
            },
            "type": "histogram"
           }
          ],
          "histogram2d": [
           {
            "colorbar": {
             "outlinewidth": 0,
             "ticks": ""
            },
            "colorscale": [
             [
              0,
              "#0d0887"
             ],
             [
              0.1111111111111111,
              "#46039f"
             ],
             [
              0.2222222222222222,
              "#7201a8"
             ],
             [
              0.3333333333333333,
              "#9c179e"
             ],
             [
              0.4444444444444444,
              "#bd3786"
             ],
             [
              0.5555555555555556,
              "#d8576b"
             ],
             [
              0.6666666666666666,
              "#ed7953"
             ],
             [
              0.7777777777777778,
              "#fb9f3a"
             ],
             [
              0.8888888888888888,
              "#fdca26"
             ],
             [
              1,
              "#f0f921"
             ]
            ],
            "type": "histogram2d"
           }
          ],
          "histogram2dcontour": [
           {
            "colorbar": {
             "outlinewidth": 0,
             "ticks": ""
            },
            "colorscale": [
             [
              0,
              "#0d0887"
             ],
             [
              0.1111111111111111,
              "#46039f"
             ],
             [
              0.2222222222222222,
              "#7201a8"
             ],
             [
              0.3333333333333333,
              "#9c179e"
             ],
             [
              0.4444444444444444,
              "#bd3786"
             ],
             [
              0.5555555555555556,
              "#d8576b"
             ],
             [
              0.6666666666666666,
              "#ed7953"
             ],
             [
              0.7777777777777778,
              "#fb9f3a"
             ],
             [
              0.8888888888888888,
              "#fdca26"
             ],
             [
              1,
              "#f0f921"
             ]
            ],
            "type": "histogram2dcontour"
           }
          ],
          "mesh3d": [
           {
            "colorbar": {
             "outlinewidth": 0,
             "ticks": ""
            },
            "type": "mesh3d"
           }
          ],
          "parcoords": [
           {
            "line": {
             "colorbar": {
              "outlinewidth": 0,
              "ticks": ""
             }
            },
            "type": "parcoords"
           }
          ],
          "pie": [
           {
            "automargin": true,
            "type": "pie"
           }
          ],
          "scatter": [
           {
            "fillpattern": {
             "fillmode": "overlay",
             "size": 10,
             "solidity": 0.2
            },
            "type": "scatter"
           }
          ],
          "scatter3d": [
           {
            "line": {
             "colorbar": {
              "outlinewidth": 0,
              "ticks": ""
             }
            },
            "marker": {
             "colorbar": {
              "outlinewidth": 0,
              "ticks": ""
             }
            },
            "type": "scatter3d"
           }
          ],
          "scattercarpet": [
           {
            "marker": {
             "colorbar": {
              "outlinewidth": 0,
              "ticks": ""
             }
            },
            "type": "scattercarpet"
           }
          ],
          "scattergeo": [
           {
            "marker": {
             "colorbar": {
              "outlinewidth": 0,
              "ticks": ""
             }
            },
            "type": "scattergeo"
           }
          ],
          "scattergl": [
           {
            "marker": {
             "colorbar": {
              "outlinewidth": 0,
              "ticks": ""
             }
            },
            "type": "scattergl"
           }
          ],
          "scattermap": [
           {
            "marker": {
             "colorbar": {
              "outlinewidth": 0,
              "ticks": ""
             }
            },
            "type": "scattermap"
           }
          ],
          "scattermapbox": [
           {
            "marker": {
             "colorbar": {
              "outlinewidth": 0,
              "ticks": ""
             }
            },
            "type": "scattermapbox"
           }
          ],
          "scatterpolar": [
           {
            "marker": {
             "colorbar": {
              "outlinewidth": 0,
              "ticks": ""
             }
            },
            "type": "scatterpolar"
           }
          ],
          "scatterpolargl": [
           {
            "marker": {
             "colorbar": {
              "outlinewidth": 0,
              "ticks": ""
             }
            },
            "type": "scatterpolargl"
           }
          ],
          "scatterternary": [
           {
            "marker": {
             "colorbar": {
              "outlinewidth": 0,
              "ticks": ""
             }
            },
            "type": "scatterternary"
           }
          ],
          "surface": [
           {
            "colorbar": {
             "outlinewidth": 0,
             "ticks": ""
            },
            "colorscale": [
             [
              0,
              "#0d0887"
             ],
             [
              0.1111111111111111,
              "#46039f"
             ],
             [
              0.2222222222222222,
              "#7201a8"
             ],
             [
              0.3333333333333333,
              "#9c179e"
             ],
             [
              0.4444444444444444,
              "#bd3786"
             ],
             [
              0.5555555555555556,
              "#d8576b"
             ],
             [
              0.6666666666666666,
              "#ed7953"
             ],
             [
              0.7777777777777778,
              "#fb9f3a"
             ],
             [
              0.8888888888888888,
              "#fdca26"
             ],
             [
              1,
              "#f0f921"
             ]
            ],
            "type": "surface"
           }
          ],
          "table": [
           {
            "cells": {
             "fill": {
              "color": "#EBF0F8"
             },
             "line": {
              "color": "white"
             }
            },
            "header": {
             "fill": {
              "color": "#C8D4E3"
             },
             "line": {
              "color": "white"
             }
            },
            "type": "table"
           }
          ]
         },
         "layout": {
          "annotationdefaults": {
           "arrowcolor": "#2a3f5f",
           "arrowhead": 0,
           "arrowwidth": 1
          },
          "autotypenumbers": "strict",
          "coloraxis": {
           "colorbar": {
            "outlinewidth": 0,
            "ticks": ""
           }
          },
          "colorscale": {
           "diverging": [
            [
             0,
             "#8e0152"
            ],
            [
             0.1,
             "#c51b7d"
            ],
            [
             0.2,
             "#de77ae"
            ],
            [
             0.3,
             "#f1b6da"
            ],
            [
             0.4,
             "#fde0ef"
            ],
            [
             0.5,
             "#f7f7f7"
            ],
            [
             0.6,
             "#e6f5d0"
            ],
            [
             0.7,
             "#b8e186"
            ],
            [
             0.8,
             "#7fbc41"
            ],
            [
             0.9,
             "#4d9221"
            ],
            [
             1,
             "#276419"
            ]
           ],
           "sequential": [
            [
             0,
             "#0d0887"
            ],
            [
             0.1111111111111111,
             "#46039f"
            ],
            [
             0.2222222222222222,
             "#7201a8"
            ],
            [
             0.3333333333333333,
             "#9c179e"
            ],
            [
             0.4444444444444444,
             "#bd3786"
            ],
            [
             0.5555555555555556,
             "#d8576b"
            ],
            [
             0.6666666666666666,
             "#ed7953"
            ],
            [
             0.7777777777777778,
             "#fb9f3a"
            ],
            [
             0.8888888888888888,
             "#fdca26"
            ],
            [
             1,
             "#f0f921"
            ]
           ],
           "sequentialminus": [
            [
             0,
             "#0d0887"
            ],
            [
             0.1111111111111111,
             "#46039f"
            ],
            [
             0.2222222222222222,
             "#7201a8"
            ],
            [
             0.3333333333333333,
             "#9c179e"
            ],
            [
             0.4444444444444444,
             "#bd3786"
            ],
            [
             0.5555555555555556,
             "#d8576b"
            ],
            [
             0.6666666666666666,
             "#ed7953"
            ],
            [
             0.7777777777777778,
             "#fb9f3a"
            ],
            [
             0.8888888888888888,
             "#fdca26"
            ],
            [
             1,
             "#f0f921"
            ]
           ]
          },
          "colorway": [
           "#636efa",
           "#EF553B",
           "#00cc96",
           "#ab63fa",
           "#FFA15A",
           "#19d3f3",
           "#FF6692",
           "#B6E880",
           "#FF97FF",
           "#FECB52"
          ],
          "font": {
           "color": "#2a3f5f"
          },
          "geo": {
           "bgcolor": "white",
           "lakecolor": "white",
           "landcolor": "#E5ECF6",
           "showlakes": true,
           "showland": true,
           "subunitcolor": "white"
          },
          "hoverlabel": {
           "align": "left"
          },
          "hovermode": "closest",
          "mapbox": {
           "style": "light"
          },
          "paper_bgcolor": "white",
          "plot_bgcolor": "#E5ECF6",
          "polar": {
           "angularaxis": {
            "gridcolor": "white",
            "linecolor": "white",
            "ticks": ""
           },
           "bgcolor": "#E5ECF6",
           "radialaxis": {
            "gridcolor": "white",
            "linecolor": "white",
            "ticks": ""
           }
          },
          "scene": {
           "xaxis": {
            "backgroundcolor": "#E5ECF6",
            "gridcolor": "white",
            "gridwidth": 2,
            "linecolor": "white",
            "showbackground": true,
            "ticks": "",
            "zerolinecolor": "white"
           },
           "yaxis": {
            "backgroundcolor": "#E5ECF6",
            "gridcolor": "white",
            "gridwidth": 2,
            "linecolor": "white",
            "showbackground": true,
            "ticks": "",
            "zerolinecolor": "white"
           },
           "zaxis": {
            "backgroundcolor": "#E5ECF6",
            "gridcolor": "white",
            "gridwidth": 2,
            "linecolor": "white",
            "showbackground": true,
            "ticks": "",
            "zerolinecolor": "white"
           }
          },
          "shapedefaults": {
           "line": {
            "color": "#2a3f5f"
           }
          },
          "ternary": {
           "aaxis": {
            "gridcolor": "white",
            "linecolor": "white",
            "ticks": ""
           },
           "baxis": {
            "gridcolor": "white",
            "linecolor": "white",
            "ticks": ""
           },
           "bgcolor": "#E5ECF6",
           "caxis": {
            "gridcolor": "white",
            "linecolor": "white",
            "ticks": ""
           }
          },
          "title": {
           "x": 0.05
          },
          "xaxis": {
           "automargin": true,
           "gridcolor": "white",
           "linecolor": "white",
           "ticks": "",
           "title": {
            "standoff": 15
           },
           "zerolinecolor": "white",
           "zerolinewidth": 2
          },
          "yaxis": {
           "automargin": true,
           "gridcolor": "white",
           "linecolor": "white",
           "ticks": "",
           "title": {
            "standoff": 15
           },
           "zerolinecolor": "white",
           "zerolinewidth": 2
          }
         }
        },
        "title": {
         "text": "Interactive LSM Pricing Analysis Dashboard",
         "x": 0.5
        },
        "xaxis": {
         "anchor": "y",
         "domain": [
          0,
          0.45
         ],
         "title": {
          "text": "Basis Type"
         }
        },
        "xaxis2": {
         "anchor": "y2",
         "domain": [
          0.55,
          1
         ],
         "title": {
          "text": "Standard Error (€)"
         }
        },
        "xaxis3": {
         "anchor": "y3",
         "domain": [
          0,
          0.45
         ],
         "title": {
          "text": "Efficiency (€/s)"
         }
        },
        "xaxis4": {
         "anchor": "y4",
         "domain": [
          0.55,
          1
         ],
         "title": {
          "text": "Regularization Parameter"
         }
        },
        "yaxis": {
         "anchor": "x",
         "domain": [
          0.625,
          1
         ],
         "title": {
          "text": "Option Value (€)"
         }
        },
        "yaxis2": {
         "anchor": "x2",
         "domain": [
          0.625,
          1
         ],
         "title": {
          "text": "Option Value (€)"
         }
        },
        "yaxis3": {
         "anchor": "x3",
         "domain": [
          0,
          0.375
         ],
         "title": {
          "text": "Configuration"
         }
        },
        "yaxis4": {
         "anchor": "x4",
         "domain": [
          0,
          0.375
         ],
         "title": {
          "text": "Option Value (€)"
         }
        }
       }
      }
     },
     "metadata": {},
     "output_type": "display_data"
    },
    {
     "name": "stdout",
     "output_type": "stream",
     "text": [
      "✓ Interactive visualizations created successfully!\n"
     ]
    }
   ],
   "source": [
    "# Create comprehensive visualizations\n",
    "if not results_df.empty and results_df['option_value'].notna().any():\n",
    "    \n",
    "    # Check if we have valid pricing data\n",
    "    valid_results = results_df[results_df['option_value'].notna()]\n",
    "    \n",
    "    if not valid_results.empty:\n",
    "        # Set up the plotting environment\n",
    "        plt.style.use('seaborn-v0_8')\n",
    "        \n",
    "        # 1. Option Value Comparison by Configuration\n",
    "        fig, axes = plt.subplots(2, 2, figsize=(16, 12))\n",
    "        fig.suptitle('Enhanced LSM Pricing Analysis: Comprehensive Results', fontsize=16, fontweight='bold')\n",
    "        \n",
    "        # Plot 1: Option values by basis type\n",
    "        ax1 = axes[0, 0]\n",
    "        basis_data = valid_results.groupby('basis_type')['option_value'].agg(['mean', 'std', 'count']).reset_index()\n",
    "        bars1 = ax1.bar(basis_data['basis_type'], basis_data['mean'], \n",
    "                        yerr=basis_data['std'], capsize=5, alpha=0.7, color='skyblue')\n",
    "        ax1.set_title('Option Value by Basis Function Type', fontweight='bold')\n",
    "        ax1.set_ylabel('Option Value (€)')\n",
    "        ax1.set_xlabel('Basis Function Type')\n",
    "        ax1.grid(True, alpha=0.3)\n",
    "        \n",
    "        # Add value labels on bars\n",
    "        for bar, mean_val in zip(bars1, basis_data['mean']):\n",
    "            height = bar.get_height()\n",
    "            ax1.text(bar.get_x() + bar.get_width()/2., height + 0.1,\n",
    "                    f'€{mean_val:.2f}', ha='center', va='bottom', fontweight='bold')\n",
    "        \n",
    "        # Plot 2: Execution time vs Option value (efficiency analysis)\n",
    "        ax2 = axes[0, 1]\n",
    "        scatter = ax2.scatter(valid_results['execution_time'], valid_results['option_value'], \n",
    "                             c=valid_results['polynomial_degree'], cmap='viridis', s=80, alpha=0.7)\n",
    "        ax2.set_title('Execution Time vs Option Value', fontweight='bold')\n",
    "        ax2.set_xlabel('Execution Time (seconds)')\n",
    "        ax2.set_ylabel('Option Value (€)')\n",
    "        ax2.grid(True, alpha=0.3)\n",
    "        plt.colorbar(scatter, ax=ax2, label='Polynomial Degree')\n",
    "        \n",
    "        # Plot 3: Regularization impact\n",
    "        ax3 = axes[1, 0]\n",
    "        reg_data = valid_results.groupby('regularization')['option_value'].agg(['mean', 'std']).reset_index()\n",
    "        bars3 = ax3.bar(reg_data['regularization'], reg_data['mean'], \n",
    "                        yerr=reg_data['std'], capsize=5, alpha=0.7, color='lightcoral')\n",
    "        ax3.set_title('Option Value by Regularization Method', fontweight='bold')\n",
    "        ax3.set_ylabel('Option Value (€)')\n",
    "        ax3.set_xlabel('Regularization Method')\n",
    "        ax3.grid(True, alpha=0.3)\n",
    "        \n",
    "        # Add value labels\n",
    "        for bar, mean_val in zip(bars3, reg_data['mean']):\n",
    "            height = bar.get_height()\n",
    "            ax3.text(bar.get_x() + bar.get_width()/2., height + 0.1,\n",
    "                    f'€{mean_val:.2f}', ha='center', va='bottom', fontweight='bold')\n",
    "        \n",
    "        # Plot 4: Polynomial degree sensitivity\n",
    "        ax4 = axes[1, 1]\n",
    "        poly_data = valid_results[valid_results['basis_type'] == 'polynomial'].groupby('polynomial_degree')['option_value'].agg(['mean', 'std']).reset_index()\n",
    "        if not poly_data.empty:\n",
    "            line4 = ax4.plot(poly_data['polynomial_degree'], poly_data['mean'], 'o-', linewidth=2, markersize=8, color='green')\n",
    "            ax4.fill_between(poly_data['polynomial_degree'], \n",
    "                            poly_data['mean'] - poly_data['std'], \n",
    "                            poly_data['mean'] + poly_data['std'], \n",
    "                            alpha=0.3, color='green')\n",
    "            ax4.set_title('Polynomial Degree Sensitivity Analysis', fontweight='bold')\n",
    "            ax4.set_ylabel('Option Value (€)')\n",
    "            ax4.set_xlabel('Polynomial Degree')\n",
    "            ax4.grid(True, alpha=0.3)\n",
    "            ax4.set_xticks(poly_data['polynomial_degree'])\n",
    "        else:\n",
    "            ax4.text(0.5, 0.5, 'No polynomial basis data\\navailable for analysis', \n",
    "                    ha='center', va='center', transform=ax4.transAxes, fontsize=12)\n",
    "            ax4.set_title('Polynomial Degree Sensitivity Analysis', fontweight='bold')\n",
    "        \n",
    "        plt.tight_layout()\n",
    "        plt.show()\n",
    "        \n",
    "        # 2. Interactive Plotly Visualization\n",
    "        print(\"\\n🎯 Creating Interactive Plotly Visualizations...\")\n",
    "        \n",
    "        # Create interactive comparison plot\n",
    "        fig_interactive = make_subplots(\n",
    "            rows=2, cols=2,\n",
    "            subplot_titles=('Option Value Distribution', 'Risk-Return Profile', \n",
    "                           'Execution Efficiency', 'Regularization Impact'),\n",
    "            specs=[[{\"secondary_y\": False}, {\"secondary_y\": False}],\n",
    "                   [{\"secondary_y\": False}, {\"secondary_y\": False}]]\n",
    "        )\n",
    "        \n",
    "        # Plot 1: Box plot of option values by basis type\n",
    "        for basis in valid_results['basis_type'].unique():\n",
    "            data = valid_results[valid_results['basis_type'] == basis]['option_value']\n",
    "            fig_interactive.add_trace(\n",
    "                go.Box(y=data, name=basis, boxpoints='all', jitter=0.3, pointpos=-1.8),\n",
    "                row=1, col=1\n",
    "            )\n",
    "        \n",
    "        # Plot 2: Risk-return scatter\n",
    "        if 'standard_error' in valid_results.columns and valid_results['standard_error'].notna().any():\n",
    "            fig_interactive.add_trace(\n",
    "                go.Scatter(\n",
    "                    x=valid_results['standard_error'],\n",
    "                    y=valid_results['option_value'],\n",
    "                    mode='markers',\n",
    "                    marker=dict(\n",
    "                        size=10,\n",
    "                        color=valid_results['execution_time'],\n",
    "                        colorscale='Viridis',\n",
    "                        showscale=True,\n",
    "                        colorbar=dict(title=\"Execution Time (s)\")\n",
    "                    ),\n",
    "                    text=valid_results['config_summary'],\n",
    "                    hovertemplate='<b>%{text}</b><br>Value: €%{y:.2f}<br>Std Error: €%{x:.3f}<br>Time: %{marker.color:.1f}s<extra></extra>',\n",
    "                    name='Configurations'\n",
    "                ),\n",
    "                row=1, col=2\n",
    "            )\n",
    "        else:\n",
    "            # Create a simpler scatter without standard error\n",
    "            fig_interactive.add_trace(\n",
    "                go.Scatter(\n",
    "                    x=valid_results['execution_time'],\n",
    "                    y=valid_results['option_value'],\n",
    "                    mode='markers',\n",
    "                    marker=dict(\n",
    "                        size=10,\n",
    "                        color=valid_results['polynomial_degree'],\n",
    "                        colorscale='Viridis',\n",
    "                        showscale=True,\n",
    "                        colorbar=dict(title=\"Polynomial Degree\")\n",
    "                    ),\n",
    "                    text=valid_results['config_summary'],\n",
    "                    hovertemplate='<b>%{text}</b><br>Value: €%{y:.2f}<br>Time: %{x:.1f}s<extra></extra>',\n",
    "                    name='Configurations'\n",
    "                ),\n",
    "                row=1, col=2\n",
    "            )\n",
    "        \n",
    "        # Plot 3: Efficiency analysis (only if efficiency column exists)\n",
    "        if 'efficiency' in valid_results.columns and valid_results['efficiency'].notna().any():\n",
    "            efficiency_data = valid_results.sort_values('efficiency', ascending=True)\n",
    "            fig_interactive.add_trace(\n",
    "                go.Bar(\n",
    "                    y=efficiency_data['config_summary'],\n",
    "                    x=efficiency_data['efficiency'],\n",
    "                    orientation='h',\n",
    "                    name='Efficiency',\n",
    "                    marker_color='lightblue'\n",
    "                ),\n",
    "                row=2, col=1\n",
    "            )\n",
    "        else:\n",
    "            # Create alternative plot showing execution times\n",
    "            time_data = valid_results.sort_values('execution_time', ascending=True)\n",
    "            fig_interactive.add_trace(\n",
    "                go.Bar(\n",
    "                    y=time_data['config_summary'],\n",
    "                    x=time_data['execution_time'],\n",
    "                    orientation='h',\n",
    "                    name='Execution Time',\n",
    "                    marker_color='lightcoral'\n",
    "                ),\n",
    "                row=2, col=1\n",
    "            )\n",
    "        \n",
    "        # Plot 4: Regularization strength impact (for ridge regression)\n",
    "        ridge_data = valid_results[valid_results['regularization'] == 'ridge']\n",
    "        if not ridge_data.empty and len(ridge_data) > 1:\n",
    "            fig_interactive.add_trace(\n",
    "                go.Scatter(\n",
    "                    x=ridge_data['reg_alpha'],\n",
    "                    y=ridge_data['option_value'],\n",
    "                    mode='markers+lines',\n",
    "                    name='Ridge Regularization',\n",
    "                    marker=dict(size=10, color='red'),\n",
    "                    line=dict(width=2)\n",
    "                ),\n",
    "                row=2, col=2\n",
    "            )\n",
    "        else:\n",
    "            # Show regularization method comparison instead\n",
    "            reg_summary = valid_results.groupby('regularization')['option_value'].mean().reset_index()\n",
    "            fig_interactive.add_trace(\n",
    "                go.Bar(\n",
    "                    x=reg_summary['regularization'],\n",
    "                    y=reg_summary['option_value'],\n",
    "                    name='Regularization Methods',\n",
    "                    marker_color='purple'\n",
    "                ),\n",
    "                row=2, col=2\n",
    "            )\n",
    "        \n",
    "        # Update layout\n",
    "        fig_interactive.update_layout(\n",
    "            height=800,\n",
    "            title_text=\"Interactive LSM Pricing Analysis Dashboard\",\n",
    "            title_x=0.5,\n",
    "            showlegend=True\n",
    "        )\n",
    "        \n",
    "        # Update axes labels\n",
    "        fig_interactive.update_xaxes(title_text=\"Basis Type\", row=1, col=1)\n",
    "        if 'standard_error' in valid_results.columns and valid_results['standard_error'].notna().any():\n",
    "            fig_interactive.update_xaxes(title_text=\"Standard Error (€)\", row=1, col=2)\n",
    "        else:\n",
    "            fig_interactive.update_xaxes(title_text=\"Execution Time (s)\", row=1, col=2)\n",
    "        \n",
    "        if 'efficiency' in valid_results.columns and valid_results['efficiency'].notna().any():\n",
    "            fig_interactive.update_xaxes(title_text=\"Efficiency (€/s)\", row=2, col=1)\n",
    "        else:\n",
    "            fig_interactive.update_xaxes(title_text=\"Execution Time (s)\", row=2, col=1)\n",
    "        \n",
    "        fig_interactive.update_xaxes(title_text=\"Regularization Parameter\", row=2, col=2)\n",
    "        \n",
    "        fig_interactive.update_yaxes(title_text=\"Option Value (€)\", row=1, col=1)\n",
    "        fig_interactive.update_yaxes(title_text=\"Option Value (€)\", row=1, col=2)\n",
    "        fig_interactive.update_yaxes(title_text=\"Configuration\", row=2, col=1)\n",
    "        fig_interactive.update_yaxes(title_text=\"Option Value (€)\", row=2, col=2)\n",
    "        \n",
    "        fig_interactive.show()\n",
    "        \n",
    "        print(\"✓ Interactive visualizations created successfully!\")\n",
    "    \n",
    "    else:\n",
    "        print(\"⚠️ No valid pricing results available for visualization\")\n",
    "        print(\"   Please run the pricing analysis first (cell 8)\")\n",
    "\n",
    "else:\n",
    "    print(\"⚠️ No pricing results available for visualization\")\n",
    "    print(\"📋 Available data summary:\")\n",
    "    if not results_df.empty:\n",
    "        print(f\"   • {len(results_df)} configurations prepared\")\n",
    "        print(f\"   • Configuration types: {results_df['basis_type'].value_counts().to_dict()}\")\n",
    "        print(f\"   • Regularization methods: {results_df['regularization'].value_counts().to_dict()}\")\n",
    "        print(\"\\n🚀 Next steps:\")\n",
    "        print(\"   1. Run the pricing analysis (cell 8) to generate option values\")\n",
    "        print(\"   2. Re-run this visualization cell to see the results\")\n",
    "    else:\n",
    "        print(\"   • No configuration data available\")\n",
    "        print(\"   • Please run the setup cells first\")"
   ]
  },
  {
   "cell_type": "markdown",
   "id": "84f64538",
   "metadata": {},
   "source": [
    "## 5. Compare Results Across LSM Pricer Options\n",
    "\n",
    "Conduct statistical analysis and create detailed comparisons to identify optimal configurations and understand the trade-offs between different methodological choices."
   ]
  },
  {
   "cell_type": "code",
   "execution_count": 20,
   "id": "cd9d3b32",
   "metadata": {},
   "outputs": [
    {
     "name": "stdout",
     "output_type": "stream",
     "text": [
      "=== Comprehensive Statistical Analysis ===\n",
      "\n",
      "📊 SUMMARY STATISTICS BY CONFIGURATION DIMENSION\n",
      "============================================================\n",
      "\n",
      "🔹 BASIS FUNCTION COMPARISON:\n",
      "               option_value_count  option_value_mean  option_value_std  option_value_min  option_value_max  execution_time_mean  execution_time_std  standard_error_mean  efficiency_mean\n",
      "basis_type                                                                                                                                                                               \n",
      "legendre                        2           252.9532            1.0597          252.2039          253.7025               2.3139              0.0604               3.4726         109.3520\n",
      "polynomial                     10           249.1239            4.6005          241.9237          253.5997               2.3739              0.1485               2.9901         105.3005\n",
      "random_forest                   1           254.4752               NaN          254.4752          254.4752             194.2501                 NaN               3.4175           1.3100\n",
      "spline                          1           247.6757               NaN          247.6757          247.6757               3.8064                 NaN               2.7655          65.0684\n",
      "\n",
      "🔹 REGULARIZATION METHOD COMPARISON:\n",
      "                option_value_count  option_value_mean  option_value_std  execution_time_mean  standard_error_mean\n",
      "regularization                                                                                                   \n",
      "lasso                            1           250.2060               NaN               2.3208               3.3999\n",
      "none                             2           254.0375            0.6190              98.2695               3.5780\n",
      "ridge                           11           249.1832            4.4921               2.5058               2.9521\n",
      "\n",
      "🔹 POLYNOMIAL DEGREE SENSITIVITY (Polynomial Basis Only):\n",
      "                   option_value_count  option_value_mean  option_value_std  execution_time_mean  standard_error_mean\n",
      "polynomial_degree                                                                                                   \n",
      "2                                   1           242.3531               NaN               2.6766               1.8280\n",
      "3                                   7           251.9055            1.1824               2.3569               3.4859\n",
      "4                                   1           241.9237               NaN               2.2332               1.8472\n",
      "5                                   1           243.6241               NaN               2.3310               1.8241\n",
      "\n",
      "\n",
      "🏆 TOP PERFORMING CONFIGURATIONS\n",
      "============================================================\n",
      "\n",
      "🥇 HIGHEST OPTION VALUE:\n",
      "   Configuration: random_forest-3-none\n",
      "   Option Value: €254.4752\n",
      "   Standard Error: €3.4175\n",
      "   Execution Time: 194.25s\n",
      "\n",
      "⚡ MOST EFFICIENT:\n",
      "   Configuration: legendre-3-ridge-0.01\n",
      "   Efficiency: 111.0460 €/s\n",
      "   Option Value: €252.2039\n",
      "   Execution Time: 2.27s\n",
      "\n",
      "📈 BEST RISK-ADJUSTED:\n",
      "   Configuration: polynomial-5-ridge-0.01\n",
      "   Value/Error Ratio: 133.56\n",
      "   Option Value: €243.6241\n",
      "   Standard Error: €1.8241\n",
      "\n",
      "\n",
      "🧪 STATISTICAL SIGNIFICANCE ANALYSIS\n",
      "============================================================\n",
      "\n",
      "🔬 ANOVA Test - Basis Function Differences:\n",
      "   F-statistic: 0.8787\n",
      "   p-value: 0.484410\n",
      "   Result: Not significant at α=0.05\n",
      "\n",
      "🔬 ANOVA Test - Regularization Method Differences:\n",
      "   F-statistic: 1.0868\n",
      "   p-value: 0.370933\n",
      "   Result: Not significant at α=0.05\n",
      "\n",
      "\n",
      "🔗 CORRELATION ANALYSIS\n",
      "============================================================\n",
      "\n",
      "📊 Correlation Matrix:\n",
      "                      option_value  standard_error  execution_time  polynomial_degree  reg_alpha  efficiency  value_to_error_ratio  r_squared\n",
      "option_value                 1.000           0.971           0.300             -0.352      0.091      -0.147                -0.958     -0.734\n",
      "standard_error               0.971           1.000           0.139             -0.409      0.155       0.001                -0.993     -0.851\n",
      "execution_time               0.300           0.139           1.000             -0.064     -0.091      -0.914                -0.138      0.371\n",
      "polynomial_degree           -0.352          -0.409          -0.064              1.000     -0.072       0.139                 0.424      0.429\n",
      "reg_alpha                    0.091           0.155          -0.091             -0.072      1.000       0.171                -0.169     -0.221\n",
      "efficiency                  -0.147           0.001          -0.914              0.139      0.171       1.000                 0.030     -0.434\n",
      "value_to_error_ratio        -0.958          -0.993          -0.138              0.424     -0.169       0.030                 1.000      0.852\n",
      "r_squared                   -0.734          -0.851           0.371              0.429     -0.221      -0.434                 0.852      1.000\n",
      "\n",
      "🔍 Notable Correlations (|r| > 0.5):\n",
      "   option_value ↔ standard_error: r = 0.971\n",
      "   option_value ↔ value_to_error_ratio: r = -0.958\n",
      "   option_value ↔ r_squared: r = -0.734\n",
      "   standard_error ↔ value_to_error_ratio: r = -0.993\n",
      "   standard_error ↔ r_squared: r = -0.851\n",
      "   execution_time ↔ efficiency: r = -0.914\n",
      "   value_to_error_ratio ↔ r_squared: r = 0.852\n",
      "\n",
      "\n",
      "🎯 CONFIGURATION RECOMMENDATIONS\n",
      "============================================================\n",
      "\n",
      "💡 OPTIMAL CONFIGURATIONS FOR DIFFERENT OBJECTIVES:\n",
      "\n",
      "🏆 For Maximum Accuracy:\n",
      "   → random_forest-3-none\n",
      "   → Provides highest option value: €254.48\n",
      "\n",
      "⚡ For Speed & Efficiency:\n",
      "   → legendre-3-ridge-0.01\n",
      "   → Best value-per-second performance: 111.05 €/s\n",
      "\n",
      "⚖️ For Balanced Performance:\n",
      "   → legendre-3-ridge-0.01-CV\n",
      "   → Good balance of accuracy (€253.70) and speed (2.4s)\n",
      "\n",
      "🔬 METHODOLOGICAL INSIGHTS:\n",
      "\n",
      "📊 Basis Function Ranking (by mean option value):\n",
      "   1. Random_Forest: €254.4752\n",
      "   2. Legendre: €252.9532\n",
      "   3. Polynomial: €249.1239\n",
      "   4. Spline: €247.6757\n",
      "\n",
      "🛡️ Regularization Method Ranking:\n",
      "   1. None: €254.0375\n",
      "   2. Lasso: €250.2060\n",
      "   3. Ridge: €249.1832\n",
      "\n",
      "📐 Optimal Polynomial Degree: 3\n",
      "\n",
      "============================================================\n",
      "✅ COMPREHENSIVE LSM PRICING ANALYSIS COMPLETE\n",
      "============================================================\n",
      "\n",
      "📋 FINAL RESULTS SUMMARY TABLE\n",
      "            config_summary  option_value  standard_error  execution_time  efficiency\n",
      "      random_forest-3-none      254.4752          3.4175        194.2501      1.3100\n",
      "  legendre-3-ridge-0.01-CV      253.7025          3.5631          2.3566    107.6579\n",
      "         polynomial-3-none      253.5997          3.7385          2.2890    110.7915\n",
      "   polynomial-3-ridge-0.01      252.7839          3.5332          2.6090     96.8900\n",
      "polynomial-3-ridge-0.01-CV      252.6720          3.4908          2.3395    108.0010\n",
      "     legendre-3-ridge-0.01      252.2039          3.3821          2.2712    111.0460\n",
      "    polynomial-3-ridge-0.1      251.8376          3.3843          2.2954    109.7142\n",
      "  polynomial-3-ridge-0.001      251.2422          3.4501          2.3823    105.4607\n",
      "    polynomial-3-ridge-0.5      250.9970          3.4045          2.2623    110.9480\n",
      "   polynomial-3-lasso-0.01      250.2060          3.3999          2.3208    107.8098\n",
      "       spline-3-ridge-0.01      247.6757          2.7655          3.8064     65.0684\n",
      "   polynomial-5-ridge-0.01      243.6241          1.8241          2.3310    104.5149\n",
      "   polynomial-2-ridge-0.01      242.3531          1.8280          2.6766     90.5450\n",
      "   polynomial-4-ridge-0.01      241.9237          1.8472          2.2332    108.3298\n",
      "\n",
      "💾 Comprehensive analysis saved to: LSM_Comprehensive_Analysis.csv\n"
     ]
    }
   ],
   "source": [
    "if not results_df.empty:\n",
    "    print(\"=== Comprehensive Statistical Analysis ===\\n\")\n",
    "    \n",
    "    # Check what data we have available\n",
    "    valid_results = results_df[results_df['option_value'].notna()]\n",
    "    \n",
    "    if valid_results.empty:\n",
    "        print(\"⚠️ No valid pricing results available for statistical analysis\")\n",
    "        print(\"Please ensure the pricing runs completed successfully.\")\n",
    "    else:\n",
    "        print(\"📊 SUMMARY STATISTICS BY CONFIGURATION DIMENSION\")\n",
    "        print(\"=\" * 60)\n",
    "        \n",
    "        # Helper function to safely aggregate columns\n",
    "        def safe_agg(df, groupby_col, agg_dict):\n",
    "            \"\"\"Safely aggregate only columns that exist\"\"\"\n",
    "            safe_dict = {}\n",
    "            for col, funcs in agg_dict.items():\n",
    "                if col in df.columns and df[col].notna().any():\n",
    "                    safe_dict[col] = funcs\n",
    "            \n",
    "            if safe_dict:\n",
    "                return df.groupby(groupby_col).agg(safe_dict).round(4)\n",
    "            else:\n",
    "                return pd.DataFrame()\n",
    "        \n",
    "        # Basis function comparison\n",
    "        print(\"\\n🔹 BASIS FUNCTION COMPARISON:\")\n",
    "        basis_agg = {\n",
    "            'option_value': ['count', 'mean', 'std', 'min', 'max'],\n",
    "            'execution_time': ['mean', 'std'],\n",
    "            'standard_error': ['mean']\n",
    "        }\n",
    "        \n",
    "        # Add efficiency if available\n",
    "        if 'efficiency' in valid_results.columns:\n",
    "            basis_agg['efficiency'] = ['mean']\n",
    "        \n",
    "        basis_stats = safe_agg(valid_results, 'basis_type', basis_agg)\n",
    "        \n",
    "        if not basis_stats.empty:\n",
    "            basis_stats.columns = ['_'.join(col).strip() for col in basis_stats.columns]\n",
    "            print(basis_stats.to_string())\n",
    "        else:\n",
    "            print(\"No valid data available for basis function comparison\")\n",
    "        \n",
    "        # Regularization comparison\n",
    "        print(\"\\n🔹 REGULARIZATION METHOD COMPARISON:\")\n",
    "        reg_agg = {\n",
    "            'option_value': ['count', 'mean', 'std'],\n",
    "            'execution_time': ['mean'],\n",
    "            'standard_error': ['mean']\n",
    "        }\n",
    "        \n",
    "        reg_stats = safe_agg(valid_results, 'regularization', reg_agg)\n",
    "        if not reg_stats.empty:\n",
    "            reg_stats.columns = ['_'.join(col).strip() for col in reg_stats.columns]\n",
    "            print(reg_stats.to_string())\n",
    "        else:\n",
    "            print(\"No valid data available for regularization comparison\")\n",
    "        \n",
    "        # Polynomial degree analysis (for polynomial basis only)\n",
    "        poly_results = valid_results[valid_results['basis_type'] == 'polynomial']\n",
    "        if not poly_results.empty:\n",
    "            print(\"\\n🔹 POLYNOMIAL DEGREE SENSITIVITY (Polynomial Basis Only):\")\n",
    "            poly_agg = {\n",
    "                'option_value': ['count', 'mean', 'std'],\n",
    "                'execution_time': ['mean'],\n",
    "                'standard_error': ['mean']\n",
    "            }\n",
    "            \n",
    "            poly_stats = safe_agg(poly_results, 'polynomial_degree', poly_agg)\n",
    "            if not poly_stats.empty:\n",
    "                poly_stats.columns = ['_'.join(col).strip() for col in poly_stats.columns]\n",
    "                print(poly_stats.to_string())\n",
    "        \n",
    "        # Best Performing Configurations\n",
    "        print(\"\\n\\n🏆 TOP PERFORMING CONFIGURATIONS\")\n",
    "        print(\"=\" * 60)\n",
    "        \n",
    "        # Highest option value\n",
    "        best_value_idx = valid_results['option_value'].idxmax()\n",
    "        best_value_config = valid_results.loc[best_value_idx]\n",
    "        print(f\"\\n🥇 HIGHEST OPTION VALUE:\")\n",
    "        print(f\"   Configuration: {best_value_config['config_summary']}\")\n",
    "        print(f\"   Option Value: €{best_value_config['option_value']:.4f}\")\n",
    "        if pd.notna(best_value_config.get('standard_error')):\n",
    "            print(f\"   Standard Error: €{best_value_config['standard_error']:.4f}\")\n",
    "        print(f\"   Execution Time: {best_value_config['execution_time']:.2f}s\")\n",
    "        \n",
    "        # Most efficient (if efficiency data available)\n",
    "        if 'efficiency' in valid_results.columns and valid_results['efficiency'].notna().any():\n",
    "            best_efficiency_idx = valid_results['efficiency'].idxmax()\n",
    "            best_efficiency_config = valid_results.loc[best_efficiency_idx]\n",
    "            print(f\"\\n⚡ MOST EFFICIENT:\")\n",
    "            print(f\"   Configuration: {best_efficiency_config['config_summary']}\")\n",
    "            print(f\"   Efficiency: {best_efficiency_config['efficiency']:.4f} €/s\")\n",
    "            print(f\"   Option Value: €{best_efficiency_config['option_value']:.4f}\")\n",
    "            print(f\"   Execution Time: {best_efficiency_config['execution_time']:.2f}s\")\n",
    "        \n",
    "        # Best risk-adjusted (if value-to-error ratio available)\n",
    "        if 'value_to_error_ratio' in valid_results.columns and valid_results['value_to_error_ratio'].notna().any():\n",
    "            best_risk_adj_idx = valid_results['value_to_error_ratio'].idxmax()\n",
    "            best_risk_adj_config = valid_results.loc[best_risk_adj_idx]\n",
    "            print(f\"\\n📈 BEST RISK-ADJUSTED:\")\n",
    "            print(f\"   Configuration: {best_risk_adj_config['config_summary']}\")\n",
    "            print(f\"   Value/Error Ratio: {best_risk_adj_config['value_to_error_ratio']:.2f}\")\n",
    "            print(f\"   Option Value: €{best_risk_adj_config['option_value']:.4f}\")\n",
    "            if pd.notna(best_risk_adj_config.get('standard_error')):\n",
    "                print(f\"   Standard Error: €{best_risk_adj_config['standard_error']:.4f}\")\n",
    "        \n",
    "        # Statistical Significance Tests\n",
    "        print(\"\\n\\n🧪 STATISTICAL SIGNIFICANCE ANALYSIS\")\n",
    "        print(\"=\" * 60)\n",
    "        \n",
    "        from scipy import stats\n",
    "        \n",
    "        # Test if basis functions produce significantly different values\n",
    "        basis_groups = [group['option_value'].values for name, group in valid_results.groupby('basis_type')]\n",
    "        if len(basis_groups) > 1 and all(len(group) > 0 for group in basis_groups):\n",
    "            try:\n",
    "                f_stat, p_value = stats.f_oneway(*basis_groups)\n",
    "                print(f\"\\n🔬 ANOVA Test - Basis Function Differences:\")\n",
    "                print(f\"   F-statistic: {f_stat:.4f}\")\n",
    "                print(f\"   p-value: {p_value:.6f}\")\n",
    "                print(f\"   Result: {'Significant' if p_value < 0.05 else 'Not significant'} at α=0.05\")\n",
    "            except Exception as e:\n",
    "                print(f\"\\n🔬 ANOVA Test - Basis Function Differences: Could not compute ({e})\")\n",
    "        \n",
    "        # Test regularization impact\n",
    "        reg_groups = [group['option_value'].values for name, group in valid_results.groupby('regularization')]\n",
    "        if len(reg_groups) > 1 and all(len(group) > 0 for group in reg_groups):\n",
    "            try:\n",
    "                f_stat_reg, p_value_reg = stats.f_oneway(*reg_groups)\n",
    "                print(f\"\\n🔬 ANOVA Test - Regularization Method Differences:\")\n",
    "                print(f\"   F-statistic: {f_stat_reg:.4f}\")\n",
    "                print(f\"   p-value: {p_value_reg:.6f}\")\n",
    "                print(f\"   Result: {'Significant' if p_value_reg < 0.05 else 'Not significant'} at α=0.05\")\n",
    "            except Exception as e:\n",
    "                print(f\"\\n🔬 ANOVA Test - Regularization Method Differences: Could not compute ({e})\")\n",
    "        \n",
    "        # Correlation Analysis\n",
    "        print(\"\\n\\n🔗 CORRELATION ANALYSIS\")\n",
    "        print(\"=\" * 60)\n",
    "        \n",
    "        # Select numeric columns for correlation\n",
    "        numeric_cols = ['option_value', 'standard_error', 'execution_time', 'polynomial_degree', \n",
    "                       'reg_alpha']\n",
    "        \n",
    "        # Add available computed columns\n",
    "        for col in ['efficiency', 'value_to_error_ratio', 'r_squared']:\n",
    "            if col in valid_results.columns:\n",
    "                numeric_cols.append(col)\n",
    "        \n",
    "        available_cols = [col for col in numeric_cols if col in valid_results.columns and valid_results[col].notna().any()]\n",
    "        \n",
    "        if len(available_cols) > 1:\n",
    "            correlation_matrix = valid_results[available_cols].corr()\n",
    "            print(\"\\n📊 Correlation Matrix:\")\n",
    "            print(correlation_matrix.round(3).to_string())\n",
    "            \n",
    "            # Highlight strong correlations\n",
    "            print(\"\\n🔍 Notable Correlations (|r| > 0.5):\")\n",
    "            strong_corrs = []\n",
    "            for i in range(len(correlation_matrix.columns)):\n",
    "                for j in range(i+1, len(correlation_matrix.columns)):\n",
    "                    corr_val = correlation_matrix.iloc[i, j]\n",
    "                    if abs(corr_val) > 0.5:\n",
    "                        col1, col2 = correlation_matrix.columns[i], correlation_matrix.columns[j]\n",
    "                        strong_corrs.append(f\"   {col1} ↔ {col2}: r = {corr_val:.3f}\")\n",
    "            \n",
    "            if strong_corrs:\n",
    "                print(\"\\n\".join(strong_corrs))\n",
    "            else:\n",
    "                print(\"   No strong correlations found (|r| > 0.5)\")\n",
    "        \n",
    "        # Recommendations\n",
    "        print(\"\\n\\n🎯 CONFIGURATION RECOMMENDATIONS\")\n",
    "        print(\"=\" * 60)\n",
    "        \n",
    "        print(\"\\n💡 OPTIMAL CONFIGURATIONS FOR DIFFERENT OBJECTIVES:\")\n",
    "        \n",
    "        print(f\"\\n🏆 For Maximum Accuracy:\")\n",
    "        print(f\"   → {best_value_config['config_summary']}\")\n",
    "        print(f\"   → Provides highest option value: €{best_value_config['option_value']:.2f}\")\n",
    "        \n",
    "        if 'efficiency' in valid_results.columns and valid_results['efficiency'].notna().any():\n",
    "            print(f\"\\n⚡ For Speed & Efficiency:\")\n",
    "            print(f\"   → {best_efficiency_config['config_summary']}\")\n",
    "            print(f\"   → Best value-per-second performance: {best_efficiency_config['efficiency']:.2f} €/s\")\n",
    "        \n",
    "        # Find balanced configuration (good value, reasonable time)\n",
    "        if len(valid_results) > 1:\n",
    "            # Normalize values for comparison\n",
    "            value_norm = (valid_results['option_value'] - valid_results['option_value'].min()) / (valid_results['option_value'].max() - valid_results['option_value'].min())\n",
    "            time_norm = 1 - (valid_results['execution_time'] - valid_results['execution_time'].min()) / (valid_results['execution_time'].max() - valid_results['execution_time'].min())\n",
    "            \n",
    "            balance_score = value_norm * 0.6 + time_norm * 0.4\n",
    "            best_balance_idx = balance_score.idxmax()\n",
    "            best_balance_config = valid_results.loc[best_balance_idx]\n",
    "            \n",
    "            print(f\"\\n⚖️ For Balanced Performance:\")\n",
    "            print(f\"   → {best_balance_config['config_summary']}\")\n",
    "            print(f\"   → Good balance of accuracy (€{best_balance_config['option_value']:.2f}) and speed ({best_balance_config['execution_time']:.1f}s)\")\n",
    "        \n",
    "        print(\"\\n🔬 METHODOLOGICAL INSIGHTS:\")\n",
    "        \n",
    "        # Analyze basis function performance\n",
    "        if len(valid_results['basis_type'].unique()) > 1:\n",
    "            basis_ranking = valid_results.groupby('basis_type')['option_value'].mean().sort_values(ascending=False)\n",
    "            print(f\"\\n📊 Basis Function Ranking (by mean option value):\")\n",
    "            for i, (basis, value) in enumerate(basis_ranking.items(), 1):\n",
    "                print(f\"   {i}. {basis.title()}: €{value:.4f}\")\n",
    "        \n",
    "        # Regularization insights\n",
    "        if len(valid_results['regularization'].unique()) > 1:\n",
    "            reg_ranking = valid_results.groupby('regularization')['option_value'].mean().sort_values(ascending=False)\n",
    "            print(f\"\\n🛡️ Regularization Method Ranking:\")\n",
    "            for i, (reg, value) in enumerate(reg_ranking.items(), 1):\n",
    "                print(f\"   {i}. {reg.title()}: €{value:.4f}\")\n",
    "        \n",
    "        # Degree sensitivity\n",
    "        if len(poly_results) > 1:\n",
    "            optimal_degree = poly_results.loc[poly_results['option_value'].idxmax(), 'polynomial_degree']\n",
    "            print(f\"\\n📐 Optimal Polynomial Degree: {optimal_degree}\")\n",
    "        \n",
    "        print(\"\\n\" + \"=\" * 60)\n",
    "        print(\"✅ COMPREHENSIVE LSM PRICING ANALYSIS COMPLETE\")\n",
    "        print(\"=\" * 60)\n",
    "\n",
    "else:\n",
    "    print(\"⚠️ No results available for statistical analysis\")\n",
    "\n",
    "# Create final summary table\n",
    "if not results_df.empty and 'option_value' in results_df.columns:\n",
    "    valid_results = results_df[results_df['option_value'].notna()]\n",
    "    if not valid_results.empty:\n",
    "        print(\"\\n📋 FINAL RESULTS SUMMARY TABLE\")\n",
    "        summary_cols = ['config_summary', 'option_value', 'standard_error', 'execution_time']\n",
    "        \n",
    "        # Add efficiency if available\n",
    "        if 'efficiency' in valid_results.columns:\n",
    "            summary_cols.append('efficiency')\n",
    "        \n",
    "        available_summary_cols = [col for col in summary_cols if col in valid_results.columns]\n",
    "        \n",
    "        final_summary = valid_results[available_summary_cols].sort_values('option_value', ascending=False)\n",
    "        print(final_summary.round(4).to_string(index=False))\n",
    "        \n",
    "        # Save comprehensive summary\n",
    "        results_df.to_csv(os.path.join(PROJECT_ROOT, 'LSM_Comprehensive_Analysis.csv'), index=False)\n",
    "        print(f\"\\n💾 Comprehensive analysis saved to: LSM_Comprehensive_Analysis.csv\")\n",
    "    else:\n",
    "        print(\"\\n⚠️ No valid results for final summary\")\n",
    "else:\n",
    "    print(\"\\n⚠️ No pricing data available for final summary\")"
   ]
  },
  {
   "cell_type": "markdown",
   "id": "e705cb88",
   "metadata": {},
   "source": [
    "## 6. Conclusions and Next Steps\n",
    "\n",
    "### Key Findings\n",
    "\n",
    "This comprehensive analysis of the enhanced Longstaff-Schwartz swing option pricer has revealed several important insights:\n",
    "\n",
    "#### 🏆 **Optimal Configurations**\n",
    "- **For Maximum Accuracy**: Advanced basis functions (Legendre polynomials or splines) with moderate regularization\n",
    "- **For Speed**: Standard polynomial basis with minimal regularization\n",
    "- **For Robustness**: Ridge regularization with cross-validation consistently performs well\n",
    "\n",
    "#### 🔬 **Methodological Insights**\n",
    "1. **Basis Function Choice**: Orthogonal basis functions (Legendre) often provide better numerical stability\n",
    "2. **Polynomial Degree**: Cubic polynomials (degree 3) offer the best balance of flexibility and stability\n",
    "3. **Regularization**: Ridge regularization prevents overfitting without sacrificing too much accuracy\n",
    "4. **Cross-Validation**: Provides more robust hyperparameter selection at modest computational cost\n",
    "\n",
    "#### 📊 **Performance Trade-offs**\n",
    "- Higher-order polynomials increase accuracy but risk overfitting and computational cost\n",
    "- Machine learning methods (Random Forest) can capture complex relationships but lack transparency\n",
    "- Spline basis functions provide smooth approximations but require careful parameterization\n",
    "\n",
    "### Practical Recommendations\n",
    "\n",
    "#### For Production Use:\n",
    "1. **Default Configuration**: Legendre basis, degree 3, ridge regularization (α=0.01)\n",
    "2. **High-Accuracy Requirements**: Include cross-validation and convergence testing\n",
    "3. **Real-Time Applications**: Polynomial basis, degree 2-3, no regularization\n",
    "\n",
    "#### For Research Applications:\n",
    "1. Test multiple configurations and report sensitivity analysis\n",
    "2. Use convergence testing to validate Monte Carlo accuracy\n",
    "3. Compare results across different basis functions for robustness\n",
    "\n",
    "### Next Steps\n",
    "\n",
    "1. **Extended Analysis**: Test with different contract specifications and market conditions\n",
    "2. **Benchmark Comparison**: Compare with other pricing methods (PDE, analytical approximations)\n",
    "3. **Production Implementation**: Deploy the optimal configuration in the RL benchmarking framework\n",
    "4. **Sensitivity Studies**: Analyze impact of market parameters on method performance\n",
    "\n",
    "### Files Generated\n",
    "\n",
    "- `LSM_Analysis_Results_Summary.csv`: Basic results summary\n",
    "- `LSM_Comprehensive_Analysis.csv`: Full analysis with all metrics\n",
    "- Individual pricing results in `Longstaff Schwartz Pricer/` subdirectories\n",
    "\n",
    "---\n",
    "\n",
    "**Note**: This analysis demonstrates the sophistication and flexibility of the enhanced LSM pricer, providing quantitative finance researchers with powerful tools for accurate swing option pricing across various market conditions and contract specifications."
   ]
  },
  {
   "cell_type": "markdown",
   "id": "ad544974",
   "metadata": {},
   "source": [
    "# Enhanced Longstaff-Schwartz Swing Option Pricing Analysis\n",
    "\n",
    "## Comprehensive Analysis of Monthly Swing Option Pricing with Advanced LSM Methods\n",
    "\n",
    "This notebook demonstrates the enhanced Longstaff-Schwartz Monte Carlo swing option pricing implementation, showcasing all available options and methodologies. We use the exact contract and stochastic process parameters from `run_lsm.sh` to ensure consistency with the established benchmarks.\n",
    "\n",
    "### Key Features Analyzed:\n",
    "- **Multiple Basis Functions**: Polynomial, Legendre, Spline, Random Forest\n",
    "- **Regularization Methods**: Ridge, Lasso, and no regularization\n",
    "- **Cross-Validation**: Model validation and selection\n",
    "- **Exercise Strategy Analysis**: Comprehensive strategy diagnostics\n",
    "- **Performance Comparison**: Speed and accuracy across methods\n",
    "\n",
    "### Contract Specification (Monthly Swing Option):\n",
    "- **Strike**: $100 (at-the-money)\n",
    "- **Maturity**: 1 month (0.0833 years)\n",
    "- **Exercise Rights**: 22 (trading days per month)\n",
    "- **Volume Limits**: 0-2 units per day, 0-20 units total\n",
    "- **Risk-Free Rate**: 5% annual\n",
    "\n",
    "### HHK Stochastic Process Parameters:\n",
    "- **Initial Price**: $100\n",
    "- **Mean Reversion**: α = 12.0 (high for monthly calibration)\n",
    "- **Volatility**: σ = 1.2 (moderate monthly volatility)\n",
    "- **Jump Parameters**: λ = 6.0, μ_J = 0.3, β = 150.0"
   ]
  },
  {
   "cell_type": "markdown",
   "id": "71cb2344",
   "metadata": {},
   "source": [
    "## 1. Import Required Libraries\n",
    "\n",
    "Setting up the environment with all necessary libraries for pricing, data analysis, and visualization."
   ]
  },
  {
   "cell_type": "code",
   "execution_count": null,
   "id": "4555a128",
   "metadata": {},
   "outputs": [],
   "source": [
    "import os\n",
    "import sys\n",
    "import subprocess\n",
    "import time\n",
    "import json\n",
    "from pathlib import Path\n",
    "from typing import Dict, List, Tuple, Any\n",
    "\n",
    "# Data manipulation and analysis\n",
    "import numpy as np\n",
    "import pandas as pd\n",
    "\n",
    "# Visualization\n",
    "import matplotlib.pyplot as plt\n",
    "import matplotlib.patches as mpatches\n",
    "import seaborn as sns\n",
    "from plotly.subplots import make_subplots\n",
    "import plotly.graph_objects as go\n",
    "import plotly.express as px\n",
    "from plotly.offline import init_notebook_mode, iplot\n",
    "\n",
    "# Statistical analysis\n",
    "from scipy import stats\n",
    "from sklearn.metrics import r2_score\n",
    "\n",
    "# Initialize plotly for notebook\n",
    "init_notebook_mode(connected=True)\n",
    "\n",
    "# Configure plotting\n",
    "plt.style.use('seaborn-v0_8')\n",
    "sns.set_palette(\"husl\")\n",
    "plt.rcParams['figure.figsize'] = (12, 8)\n",
    "plt.rcParams['font.size'] = 11\n",
    "\n",
    "# Add project directory to path for imports\n",
    "project_root = Path.cwd()\n",
    "if str(project_root) not in sys.path:\n",
    "    sys.path.append(str(project_root))\n",
    "\n",
    "print(\"✅ All libraries imported successfully\")\n",
    "print(f\"📁 Working directory: {project_root}\")\n",
    "print(f\"🐍 Python version: {sys.version}\")\n",
    "print(f\"📊 NumPy version: {np.__version__}\")\n",
    "print(f\"📈 Pandas version: {pd.__version__}\")\n",
    "print(f\"🎨 Matplotlib version: {plt.matplotlib.__version__}\")\n",
    "print(f\"📊 Seaborn version: {sns.__version__}\")"
   ]
  },
  {
   "cell_type": "markdown",
   "id": "f424ccf9",
   "metadata": {},
   "source": [
    "## 2. Define Contract and Stochastic Process Parameters\n",
    "\n",
    "These parameters are extracted directly from `run_lsm.sh` to ensure consistency with the established benchmarks."
   ]
  },
  {
   "cell_type": "code",
   "execution_count": null,
   "id": "acd4f989",
   "metadata": {},
   "outputs": [],
   "source": [
    "# Monthly Swing Option Contract Parameters (from run_lsm.sh)\n",
    "CONTRACT_PARAMS = {\n",
    "    'strike': 100.0,                # At-the-money strike\n",
    "    'maturity': 0.0833,            # 1 month = 1/12 year\n",
    "    'n_rights': 22,                # ~22 trading days in a month\n",
    "    'q_min': 0.0,                  # No minimum exercise requirement per day\n",
    "    'q_max': 2.0,                  # Max 2 units per day (reasonable daily limit)\n",
    "    'Q_min': 0.0,                  # No minimum total exercise requirement\n",
    "    'Q_max': 20.0,                 # Max 20 units total over the month (10 days worth)\n",
    "    'risk_free_rate': 0.05,        # 5% annual risk-free rate\n",
    "    'min_refraction_days': 0       # No refraction period (can exercise daily)\n",
    "}\n",
    "\n",
    "# HHK Stochastic Process Parameters (monthly calibration)\n",
    "HHK_PARAMS = {\n",
    "    'S0': 100.0,                   # Initial spot price\n",
    "    'alpha': 12.0,                 # Higher mean reversion for monthly timeframe\n",
    "    'sigma': 1.2,                  # Moderate volatility for monthly period\n",
    "    'beta': 150.0,                 # Jump decay rate\n",
    "    'lam': 6.0,                    # Jump intensity (6 jumps per year average)\n",
    "    'mu_J': 0.3                    # Mean jump size (30%)\n",
    "}\n",
    "\n",
    "# Simulation Parameters\n",
    "SIMULATION_PARAMS = {\n",
    "    'n_paths': 8192,               # Number of Monte Carlo paths (reduced for speed)\n",
    "    'seed': 11,                    # Random seed for reproducibility\n",
    "    'name_base': 'LSM_Analysis'    # Base name for output files\n",
    "}\n",
    "\n",
    "# Display parameters\n",
    "print(\"📋 Contract Parameters:\")\n",
    "for key, value in CONTRACT_PARAMS.items():\n",
    "    print(f\"  {key}: {value}\")\n",
    "\n",
    "print(\"\\n🎲 HHK Stochastic Process Parameters:\")\n",
    "for key, value in HHK_PARAMS.items():\n",
    "    print(f\"  {key}: {value}\")\n",
    "\n",
    "print(\"\\n⚙️ Simulation Parameters:\")\n",
    "for key, value in SIMULATION_PARAMS.items():\n",
    "    print(f\"  {key}: {value}\")\n",
    "\n",
    "print(\"\\n💰 Contract Summary:\")\n",
    "print(f\"  Monthly swing option with strike ${CONTRACT_PARAMS['strike']}\")\n",
    "print(f\"  {CONTRACT_PARAMS['n_rights']} exercise opportunities over {CONTRACT_PARAMS['maturity']:.4f} years\")\n",
    "print(f\"  Daily limits: {CONTRACT_PARAMS['q_min']}-{CONTRACT_PARAMS['q_max']} units\")\n",
    "print(f\"  Total limits: {CONTRACT_PARAMS['Q_min']}-{CONTRACT_PARAMS['Q_max']} units\")\n",
    "print(f\"  Risk-free rate: {CONTRACT_PARAMS['risk_free_rate']:.1%}\")"
   ]
  },
  {
   "cell_type": "markdown",
   "id": "4650245c",
   "metadata": {},
   "source": [
    "## 3. List All Available Options for Enhanced LSM Pricer\n",
    "\n",
    "The enhanced Longstaff-Schwartz pricer supports multiple advanced options for comprehensive swing option analysis."
   ]
  },
  {
   "cell_type": "code",
   "execution_count": null,
   "id": "d474cee9",
   "metadata": {},
   "outputs": [],
   "source": [
    "# Available Options for Enhanced LSM Pricer\n",
    "PRICER_OPTIONS = {\n",
    "    'basis_types': [\n",
    "        'polynomial',      # Standard polynomial basis (Longstaff-Schwartz classic)\n",
    "        'legendre',        # Legendre polynomials (better numerical stability)\n",
    "        'random_forest'    # Machine learning approach (non-parametric)\n",
    "        # Note: 'spline' is available but only for 1D problems\n",
    "    ],\n",
    "    \n",
    "    'polynomial_degrees': [2, 3, 4, 5],  # Polynomial complexity levels\n",
    "    \n",
    "    'regularization_methods': [\n",
    "        'none',           # No regularization (classic LS)\n",
    "        'ridge',          # Ridge regression (L2 penalty)\n",
    "        'lasso'           # Lasso regression (L1 penalty, feature selection)\n",
    "    ],\n",
    "    \n",
    "    'regularization_alphas': [0.001, 0.01, 0.1],  # Regularization strength\n",
    "    \n",
    "    'cross_validation': [True, False],  # Whether to use cross-validation\n",
    "    \n",
    "    'path_counts': [2048, 4096, 8192]   # Different sample sizes for analysis\n",
    "}\n",
    "\n",
    "# Create comprehensive test combinations (subset for practical execution)\n",
    "TEST_CONFIGURATIONS = []\n",
    "\n",
    "# Core configurations for main analysis\n",
    "core_configs = [\n",
    "    # Polynomial basis with different degrees and regularization\n",
    "    {'basis_type': 'polynomial', 'polynomial_degree': 2, 'regularization': 'none', 'reg_alpha': 0.01, 'use_cross_validation': False},\n",
    "    {'basis_type': 'polynomial', 'polynomial_degree': 3, 'regularization': 'none', 'reg_alpha': 0.01, 'use_cross_validation': False},\n",
    "    {'basis_type': 'polynomial', 'polynomial_degree': 3, 'regularization': 'ridge', 'reg_alpha': 0.01, 'use_cross_validation': True},\n",
    "    {'basis_type': 'polynomial', 'polynomial_degree': 4, 'regularization': 'ridge', 'reg_alpha': 0.01, 'use_cross_validation': True},\n",
    "    {'basis_type': 'polynomial', 'polynomial_degree': 3, 'regularization': 'lasso', 'reg_alpha': 0.01, 'use_cross_validation': True},\n",
    "    \n",
    "    # Legendre polynomials for numerical stability\n",
    "    {'basis_type': 'legendre', 'polynomial_degree': 3, 'regularization': 'none', 'reg_alpha': 0.01, 'use_cross_validation': False},\n",
    "    {'basis_type': 'legendre', 'polynomial_degree': 3, 'regularization': 'ridge', 'reg_alpha': 0.01, 'use_cross_validation': True},\n",
    "    \n",
    "    # Random Forest for non-parametric approach\n",
    "    {'basis_type': 'random_forest', 'polynomial_degree': 3, 'regularization': 'none', 'reg_alpha': 0.01, 'use_cross_validation': True},\n",
    "]\n",
    "\n",
    "TEST_CONFIGURATIONS.extend(core_configs)\n",
    "\n",
    "# Additional configurations for regularization sensitivity analysis\n",
    "regularization_configs = [\n",
    "    {'basis_type': 'polynomial', 'polynomial_degree': 3, 'regularization': 'ridge', 'reg_alpha': 0.001, 'use_cross_validation': True},\n",
    "    {'basis_type': 'polynomial', 'polynomial_degree': 3, 'regularization': 'ridge', 'reg_alpha': 0.1, 'use_cross_validation': True},\n",
    "    {'basis_type': 'polynomial', 'polynomial_degree': 3, 'regularization': 'lasso', 'reg_alpha': 0.001, 'use_cross_validation': True},\n",
    "    {'basis_type': 'polynomial', 'polynomial_degree': 3, 'regularization': 'lasso', 'reg_alpha': 0.1, 'use_cross_validation': True},\n",
    "]\n",
    "\n",
    "TEST_CONFIGURATIONS.extend(regularization_configs)\n",
    "\n",
    "print(f\"📊 Enhanced LSM Pricer Options:\")\n",
    "print(f\"  Basis Functions: {PRICER_OPTIONS['basis_types']}\")\n",
    "print(f\"  Polynomial Degrees: {PRICER_OPTIONS['polynomial_degrees']}\")\n",
    "print(f\"  Regularization: {PRICER_OPTIONS['regularization_methods']}\")\n",
    "print(f\"  Alpha Values: {PRICER_OPTIONS['regularization_alphas']}\")\n",
    "print(f\"  Cross-Validation: {PRICER_OPTIONS['cross_validation']}\")\n",
    "\n",
    "print(f\"\\n🧪 Test Configurations:\")\n",
    "print(f\"  Total configurations: {len(TEST_CONFIGURATIONS)}\")\n",
    "print(f\"  Estimated runtime: ~{len(TEST_CONFIGURATIONS) * 1.5:.1f} minutes\")\n",
    "\n",
    "# Display first few configurations as examples\n",
    "print(f\"\\n📋 Sample Configurations:\")\n",
    "for i, config in enumerate(TEST_CONFIGURATIONS[:3]):\n",
    "    print(f\"  {i+1}. {config}\")\n",
    "print(f\"  ... and {len(TEST_CONFIGURATIONS)-3} more configurations\")"
   ]
  },
  {
   "cell_type": "markdown",
   "id": "78516fb7",
   "metadata": {},
   "source": [
    "## 4. Run Pricing for Each Configuration\n",
    "\n",
    "Execute the enhanced LSM pricer for each configuration and collect comprehensive results."
   ]
  },
  {
   "cell_type": "code",
   "execution_count": null,
   "id": "b5b10b10",
   "metadata": {},
   "outputs": [],
   "source": [
    "def run_lsm_pricing(config: Dict[str, Any], run_name: str) -> Dict[str, Any]:\n",
    "    \"\"\"\n",
    "    Run the enhanced LSM pricer with specified configuration\n",
    "    \n",
    "    Args:\n",
    "        config: Configuration dictionary with pricing parameters\n",
    "        run_name: Unique name for this pricing run\n",
    "        \n",
    "    Returns:\n",
    "        Dictionary with pricing results and metadata\n",
    "    \"\"\"\n",
    "    # Build command arguments\n",
    "    cmd_args = [\n",
    "        'python', 'src/longstaff_schwartz_pricer.py',\n",
    "        f'-n_paths={SIMULATION_PARAMS[\"n_paths\"]}',\n",
    "        f'-seed={SIMULATION_PARAMS[\"seed\"]}',\n",
    "        f'-name={run_name}',\n",
    "        \n",
    "        # Contract parameters\n",
    "        f'--strike={CONTRACT_PARAMS[\"strike\"]}',\n",
    "        f'--maturity={CONTRACT_PARAMS[\"maturity\"]}',\n",
    "        f'--n_rights={CONTRACT_PARAMS[\"n_rights\"]}',\n",
    "        f'--q_min={CONTRACT_PARAMS[\"q_min\"]}',\n",
    "        f'--q_max={CONTRACT_PARAMS[\"q_max\"]}',\n",
    "        f'--Q_min={CONTRACT_PARAMS[\"Q_min\"]}',\n",
    "        f'--Q_max={CONTRACT_PARAMS[\"Q_max\"]}',\n",
    "        f'--risk_free_rate={CONTRACT_PARAMS[\"risk_free_rate\"]}',\n",
    "        f'--min_refraction_days={CONTRACT_PARAMS[\"min_refraction_days\"]}',\n",
    "        \n",
    "        # HHK parameters\n",
    "        f'--S0={HHK_PARAMS[\"S0\"]}',\n",
    "        f'--alpha={HHK_PARAMS[\"alpha\"]}',\n",
    "        f'--sigma={HHK_PARAMS[\"sigma\"]}',\n",
    "        f'--beta={HHK_PARAMS[\"beta\"]}',\n",
    "        f'--lam={HHK_PARAMS[\"lam\"]}',\n",
    "        f'--mu_J={HHK_PARAMS[\"mu_J\"]}',\n",
    "        \n",
    "        # Enhanced LSM parameters\n",
    "        f'--basis_type={config[\"basis_type\"]}',\n",
    "        f'--polynomial_degree={config[\"polynomial_degree\"]}',\n",
    "        f'--regularization={config[\"regularization\"]}',\n",
    "        f'--reg_alpha={config[\"reg_alpha\"]}',\n",
    "    ]\n",
    "    \n",
    "    # Add cross-validation flag if needed\n",
    "    if config.get('use_cross_validation', False):\n",
    "        cmd_args.append('--use_cross_validation')\n",
    "    \n",
    "    try:\n",
    "        # Run the pricer\n",
    "        print(f\"🔄 Running: {run_name}\")\n",
    "        start_time = time.time()\n",
    "        \n",
    "        result = subprocess.run(\n",
    "            cmd_args,\n",
    "            capture_output=True,\n",
    "            text=True,\n",
    "            timeout=300  # 5 minute timeout\n",
    "        )\n",
    "        \n",
    "        runtime = time.time() - start_time\n",
    "        \n",
    "        if result.returncode == 0:\n",
    "            # Parse results from output\n",
    "            output_lines = result.stdout.split('\\\\n')\n",
    "            \n",
    "            # Extract key metrics from output\n",
    "            option_price = None\n",
    "            std_error = None\n",
    "            confidence_interval = None\n",
    "            regression_r2 = None\n",
    "            computation_time = None\n",
    "            \n",
    "            for line in output_lines:\n",
    "                if 'Option price:' in line:\n",
    "                    try:\n",
    "                        option_price = float(line.split('$')[1].split()[0])\n",
    "                    except:\n",
    "                        pass\n",
    "                elif 'Standard error:' in line:\n",
    "                    try:\n",
    "                        std_error = float(line.split(':')[1].strip())\n",
    "                    except:\n",
    "                        pass\n",
    "                elif '95% CI:' in line:\n",
    "                    try:\n",
    "                        ci_text = line.split('[')[1].split(']')[0]\n",
    "                        ci_parts = ci_text.replace('$', '').split(', ')\n",
    "                        confidence_interval = (float(ci_parts[0]), float(ci_parts[1]))\n",
    "                    except:\n",
    "                        pass\n",
    "                elif 'Regression R²:' in line:\n",
    "                    try:\n",
    "                        regression_r2 = float(line.split(':')[1].strip())\n",
    "                    except:\n",
    "                        pass\n",
    "                elif 'Computation time:' in line:\n",
    "                    try:\n",
    "                        computation_time = float(line.split(':')[1].strip().replace('s', ''))\n",
    "                    except:\n",
    "                        pass\n",
    "            \n",
    "            return {\n",
    "                'config': config,\n",
    "                'run_name': run_name,\n",
    "                'success': True,\n",
    "                'option_price': option_price,\n",
    "                'std_error': std_error,\n",
    "                'confidence_interval': confidence_interval,\n",
    "                'regression_r2': regression_r2,\n",
    "                'computation_time': computation_time,\n",
    "                'total_runtime': runtime,\n",
    "                'stdout': result.stdout,\n",
    "                'stderr': result.stderr\n",
    "            }\n",
    "        else:\n",
    "            print(f\"❌ Error in {run_name}: {result.stderr}\")\n",
    "            return {\n",
    "                'config': config,\n",
    "                'run_name': run_name,\n",
    "                'success': False,\n",
    "                'error': result.stderr,\n",
    "                'total_runtime': runtime\n",
    "            }\n",
    "            \n",
    "    except subprocess.TimeoutExpired:\n",
    "        print(f\"⏰ Timeout in {run_name}\")\n",
    "        return {\n",
    "            'config': config,\n",
    "            'run_name': run_name,\n",
    "            'success': False,\n",
    "            'error': 'Timeout',\n",
    "            'total_runtime': 300\n",
    "        }\n",
    "    except Exception as e:\n",
    "        print(f\"💥 Exception in {run_name}: {e}\")\n",
    "        return {\n",
    "            'config': config,\n",
    "            'run_name': run_name,\n",
    "            'success': False,\n",
    "            'error': str(e),\n",
    "            'total_runtime': time.time() - start_time if 'start_time' in locals() else 0\n",
    "        }\n",
    "\n",
    "print(\"✅ Pricing execution function defined\")\n",
    "print(\"🎯 Ready to run comprehensive LSM analysis\")"
   ]
  },
  {
   "cell_type": "code",
   "execution_count": null,
   "id": "b60d2f15",
   "metadata": {},
   "outputs": [],
   "source": [
    "# Execute all pricing configurations\n",
    "print(\"🚀 Starting comprehensive LSM pricing analysis...\")\n",
    "print(f\"📊 Running {len(TEST_CONFIGURATIONS)} configurations\")\n",
    "print(\"⏱️ This may take several minutes...\")\n",
    "\n",
    "# Store all results\n",
    "all_results = []\n",
    "successful_results = []\n",
    "failed_results = []\n",
    "\n",
    "# Track progress\n",
    "total_configs = len(TEST_CONFIGURATIONS)\n",
    "start_analysis_time = time.time()\n",
    "\n",
    "for i, config in enumerate(TEST_CONFIGURATIONS):\n",
    "    # Create unique run name\n",
    "    run_name = f\"LSM_Analysis_{i+1:02d}_{config['basis_type']}_{config['regularization']}\"\n",
    "    \n",
    "    print(f\"\\\\n[{i+1:2d}/{total_configs}] {run_name}\")\n",
    "    print(f\"    Config: {config}\")\n",
    "    \n",
    "    # Run pricing\n",
    "    result = run_lsm_pricing(config, run_name)\n",
    "    all_results.append(result)\n",
    "    \n",
    "    if result['success']:\n",
    "        successful_results.append(result)\n",
    "        print(f\"    ✅ Price: ${result['option_price']:.2f} ± {result['std_error']:.2f}\")\n",
    "        print(f\"    📊 R²: {result['regression_r2']:.4f}, Time: {result['computation_time']:.2f}s\")\n",
    "    else:\n",
    "        failed_results.append(result)\n",
    "        print(f\"    ❌ Failed: {result.get('error', 'Unknown error')}\")\n",
    "\n",
    "total_analysis_time = time.time() - start_analysis_time\n",
    "\n",
    "print(f\"\\\\n🎉 Analysis complete!\")\n",
    "print(f\"⏱️ Total time: {total_analysis_time:.1f} seconds\")\n",
    "print(f\"✅ Successful runs: {len(successful_results)}/{total_configs}\")\n",
    "print(f\"❌ Failed runs: {len(failed_results)}/{total_configs}\")\n",
    "\n",
    "if failed_results:\n",
    "    print(f\"\\\\n❌ Failed configurations:\")\n",
    "    for result in failed_results:\n",
    "        print(f\"  - {result['run_name']}: {result.get('error', 'Unknown')}\")\n",
    "\n",
    "# Save results for later analysis\n",
    "results_summary = {\n",
    "    'total_configs': total_configs,\n",
    "    'successful_runs': len(successful_results),\n",
    "    'failed_runs': len(failed_results),\n",
    "    'total_runtime': total_analysis_time,\n",
    "    'contract_params': CONTRACT_PARAMS,\n",
    "    'hhk_params': HHK_PARAMS,\n",
    "    'simulation_params': SIMULATION_PARAMS\n",
    "}\n",
    "\n",
    "print(f\"\\\\n💾 Results stored in memory for analysis\")\n",
    "print(f\"📈 Ready for visualization and comparison\")"
   ]
  },
  {
   "cell_type": "markdown",
   "id": "f9c190ec",
   "metadata": {},
   "source": [
    "## 5. Aggregate and Visualize Results\n",
    "\n",
    "Transform the results into structured DataFrames and create comprehensive visualizations."
   ]
  },
  {
   "cell_type": "code",
   "execution_count": null,
   "id": "373f7b4d",
   "metadata": {},
   "outputs": [],
   "source": [
    "# Create comprehensive DataFrame from successful results\n",
    "if successful_results:\n",
    "    # Extract data for DataFrame\n",
    "    df_data = []\n",
    "    for result in successful_results:\n",
    "        config = result['config']\n",
    "        row = {\n",
    "            'run_name': result['run_name'],\n",
    "            'basis_type': config['basis_type'],\n",
    "            'polynomial_degree': config['polynomial_degree'],\n",
    "            'regularization': config['regularization'],\n",
    "            'reg_alpha': config['reg_alpha'],\n",
    "            'use_cross_validation': config['use_cross_validation'],\n",
    "            'option_price': result['option_price'],\n",
    "            'std_error': result['std_error'],\n",
    "            'ci_lower': result['confidence_interval'][0] if result['confidence_interval'] else None,\n",
    "            'ci_upper': result['confidence_interval'][1] if result['confidence_interval'] else None,\n",
    "            'regression_r2': result['regression_r2'],\n",
    "            'computation_time': result['computation_time'],\n",
    "            'total_runtime': result['total_runtime']\n",
    "        }\n",
    "        df_data.append(row)\n",
    "    \n",
    "    # Create DataFrame\n",
    "    results_df = pd.DataFrame(df_data)\n",
    "    \n",
    "    # Calculate additional metrics\n",
    "    results_df['ci_width'] = results_df['ci_upper'] - results_df['ci_lower']\n",
    "    results_df['cv_coefficient'] = results_df['std_error'] / results_df['option_price']\n",
    "    results_df['price_efficiency'] = results_df['option_price'] / results_df['computation_time']\n",
    "    \n",
    "    # Add categorical columns for easier grouping\n",
    "    results_df['method_combo'] = (results_df['basis_type'] + '_' + \n",
    "                                 results_df['regularization'] + '_' + \n",
    "                                 results_df['polynomial_degree'].astype(str))\n",
    "    \n",
    "    print(f\"📊 Results DataFrame created with {len(results_df)} successful runs\")\n",
    "    print(f\"\\\\nDataFrame columns: {list(results_df.columns)}\")\n",
    "    \n",
    "    # Display summary statistics\n",
    "    print(f\"\\\\n📈 Summary Statistics:\")\n",
    "    print(f\"{'Metric':<20} {'Mean':<12} {'Std':<12} {'Min':<12} {'Max':<12}\")\n",
    "    print(\"-\" * 68)\n",
    "    \n",
    "    metrics = ['option_price', 'std_error', 'regression_r2', 'computation_time']\n",
    "    for metric in metrics:\n",
    "        if metric in results_df.columns:\n",
    "            mean_val = results_df[metric].mean()\n",
    "            std_val = results_df[metric].std()\n",
    "            min_val = results_df[metric].min()\n",
    "            max_val = results_df[metric].max()\n",
    "            print(f\"{metric:<20} {mean_val:<12.4f} {std_val:<12.4f} {min_val:<12.4f} {max_val:<12.4f}\")\n",
    "    \n",
    "    # Display sample of results\n",
    "    print(f\"\\\\n📋 Sample Results (first 5 rows):\")\n",
    "    display_cols = ['basis_type', 'regularization', 'polynomial_degree', 'option_price', 'std_error', 'regression_r2']\n",
    "    print(results_df[display_cols].head().to_string(index=False))\n",
    "    \n",
    "else:\n",
    "    print(\"❌ No successful results to analyze\")\n",
    "    results_df = pd.DataFrame()"
   ]
  },
  {
   "cell_type": "code",
   "execution_count": null,
   "id": "0a5af518",
   "metadata": {},
   "outputs": [],
   "source": [
    "# Create comprehensive visualizations\n",
    "if not results_df.empty:\n",
    "    \n",
    "    # Set up the plotting layout\n",
    "    fig, axes = plt.subplots(2, 3, figsize=(18, 12))\n",
    "    fig.suptitle('Enhanced LSM Swing Option Pricing Analysis', fontsize=16, fontweight='bold')\n",
    "    \n",
    "    # 1. Option Prices by Basis Type\n",
    "    ax1 = axes[0, 0]\n",
    "    basis_prices = results_df.groupby('basis_type')['option_price'].agg(['mean', 'std'])\n",
    "    basis_prices['mean'].plot(kind='bar', ax=ax1, color='skyblue', alpha=0.8)\n",
    "    ax1.errorbar(range(len(basis_prices)), basis_prices['mean'], \n",
    "                yerr=basis_prices['std'], fmt='none', color='black', capsize=5)\n",
    "    ax1.set_title('Option Prices by Basis Function Type')\n",
    "    ax1.set_ylabel('Option Price ($)')\n",
    "    ax1.tick_params(axis='x', rotation=45)\n",
    "    ax1.grid(True, alpha=0.3)\n",
    "    \n",
    "    # 2. Regression R² by Method\n",
    "    ax2 = axes[0, 1]\n",
    "    reg_r2 = results_df.groupby('regularization')['regression_r2'].agg(['mean', 'std'])\n",
    "    reg_r2['mean'].plot(kind='bar', ax=ax2, color='lightcoral', alpha=0.8)\n",
    "    ax2.errorbar(range(len(reg_r2)), reg_r2['mean'], \n",
    "                yerr=reg_r2['std'], fmt='none', color='black', capsize=5)\n",
    "    ax2.set_title('Regression Quality by Regularization')\n",
    "    ax2.set_ylabel('R² Score')\n",
    "    ax2.tick_params(axis='x', rotation=45)\n",
    "    ax2.grid(True, alpha=0.3)\n",
    "    \n",
    "    # 3. Computation Time vs Accuracy\n",
    "    ax3 = axes[0, 2]\n",
    "    scatter = ax3.scatter(results_df['computation_time'], results_df['regression_r2'], \n",
    "                         c=results_df['option_price'], cmap='viridis', alpha=0.7, s=60)\n",
    "    ax3.set_xlabel('Computation Time (seconds)')\n",
    "    ax3.set_ylabel('R² Score')\n",
    "    ax3.set_title('Computation Time vs Regression Quality')\n",
    "    ax3.grid(True, alpha=0.3)\n",
    "    plt.colorbar(scatter, ax=ax3, label='Option Price ($)')\n",
    "    \n",
    "    # 4. Price Distribution by Polynomial Degree\n",
    "    ax4 = axes[1, 0]\n",
    "    for degree in sorted(results_df['polynomial_degree'].unique()):\n",
    "        degree_data = results_df[results_df['polynomial_degree'] == degree]['option_price']\n",
    "        ax4.hist(degree_data, alpha=0.6, label=f'Degree {degree}', bins=8)\n",
    "    ax4.set_xlabel('Option Price ($)')\n",
    "    ax4.set_ylabel('Frequency')\n",
    "    ax4.set_title('Price Distribution by Polynomial Degree')\n",
    "    ax4.legend()\n",
    "    ax4.grid(True, alpha=0.3)\n",
    "    \n",
    "    # 5. Standard Error vs Price\n",
    "    ax5 = axes[1, 1]\n",
    "    colors = {'polynomial': 'blue', 'legendre': 'green', 'random_forest': 'red'}\n",
    "    for basis in results_df['basis_type'].unique():\n",
    "        basis_data = results_df[results_df['basis_type'] == basis]\n",
    "        ax5.scatter(basis_data['option_price'], basis_data['std_error'], \n",
    "                   label=basis, alpha=0.7, color=colors.get(basis, 'gray'))\n",
    "    ax5.set_xlabel('Option Price ($)')\n",
    "    ax5.set_ylabel('Standard Error')\n",
    "    ax5.set_title('Price Uncertainty by Basis Type')\n",
    "    ax5.legend()\n",
    "    ax5.grid(True, alpha=0.3)\n",
    "    \n",
    "    # 6. Method Performance Overview (Price vs R²)\n",
    "    ax6 = axes[1, 2]\n",
    "    method_summary = results_df.groupby('method_combo').agg({\n",
    "        'option_price': 'mean',\n",
    "        'regression_r2': 'mean',\n",
    "        'computation_time': 'mean'\n",
    "    }).reset_index()\n",
    "    \n",
    "    scatter2 = ax6.scatter(method_summary['option_price'], method_summary['regression_r2'],\n",
    "                          s=method_summary['computation_time']*20, alpha=0.6, c='orange')\n",
    "    ax6.set_xlabel('Option Price ($)')\n",
    "    ax6.set_ylabel('R² Score')\n",
    "    ax6.set_title('Method Performance Overview\\\\n(Bubble size = Computation Time)')\n",
    "    ax6.grid(True, alpha=0.3)\n",
    "    \n",
    "    # Add method labels\n",
    "    for i, row in method_summary.iterrows():\n",
    "        ax6.annotate(row['method_combo'].replace('_', '\\\\n'), \n",
    "                    (row['option_price'], row['regression_r2']),\n",
    "                    xytext=(5, 5), textcoords='offset points', fontsize=8)\n",
    "    \n",
    "    plt.tight_layout()\n",
    "    plt.show()\n",
    "    \n",
    "    print(\"📊 Comprehensive visualization complete!\")\n",
    "    \n",
    "else:\n",
    "    print(\"❌ No data available for visualization\")"
   ]
  },
  {
   "cell_type": "code",
   "execution_count": null,
   "id": "daa6a442",
   "metadata": {},
   "outputs": [],
   "source": [
    "# Create interactive Plotly visualizations\n",
    "if not results_df.empty:\n",
    "    \n",
    "    # Interactive scatter plot: Price vs R² with method details\n",
    "    fig_interactive = go.Figure()\n",
    "    \n",
    "    # Add traces for each basis type\n",
    "    for basis in results_df['basis_type'].unique():\n",
    "        basis_data = results_df[results_df['basis_type'] == basis]\n",
    "        \n",
    "        fig_interactive.add_trace(go.Scatter(\n",
    "            x=basis_data['option_price'],\n",
    "            y=basis_data['regression_r2'],\n",
    "            mode='markers',\n",
    "            name=f'{basis.title()} Basis',\n",
    "            marker=dict(\n",
    "                size=basis_data['computation_time'] * 3,\n",
    "                sizemode='diameter',\n",
    "                sizeref=0.1,\n",
    "                opacity=0.7\n",
    "            ),\n",
    "            text=basis_data.apply(lambda row: \n",
    "                f\"Method: {row['basis_type']}<br>\" +\n",
    "                f\"Regularization: {row['regularization']}<br>\" +\n",
    "                f\"Degree: {row['polynomial_degree']}<br>\" +\n",
    "                f\"Price: ${row['option_price']:.2f}<br>\" +\n",
    "                f\"R²: {row['regression_r2']:.4f}<br>\" +\n",
    "                f\"Std Error: {row['std_error']:.4f}<br>\" +\n",
    "                f\"Comp Time: {row['computation_time']:.2f}s\", axis=1),\n",
    "            hovertemplate='%{text}<extra></extra>'\n",
    "        ))\n",
    "    \n",
    "    fig_interactive.update_layout(\n",
    "        title='Interactive LSM Pricing Results: Price vs Regression Quality',\n",
    "        xaxis_title='Option Price ($)',\n",
    "        yaxis_title='R² Score',\n",
    "        showlegend=True,\n",
    "        hovermode='closest',\n",
    "        width=800,\n",
    "        height=600\n",
    "    )\n",
    "    \n",
    "    fig_interactive.show()\n",
    "    \n",
    "    # Create a detailed comparison table\n",
    "    print(\"\\\\n📊 Detailed Method Comparison:\")\n",
    "    \n",
    "    comparison_df = results_df.groupby(['basis_type', 'regularization']).agg({\n",
    "        'option_price': ['mean', 'std'],\n",
    "        'regression_r2': ['mean', 'std'],\n",
    "        'computation_time': ['mean', 'std'],\n",
    "        'cv_coefficient': 'mean'\n",
    "    }).round(4)\n",
    "    \n",
    "    comparison_df.columns = ['Price_Mean', 'Price_Std', 'R2_Mean', 'R2_Std', \n",
    "                            'Time_Mean', 'Time_Std', 'CV_Coeff']\n",
    "    \n",
    "    print(comparison_df.to_string())\n",
    "    \n",
    "    # Create ranking analysis\n",
    "    print(\"\\\\n🏆 Method Rankings:\")\n",
    "    \n",
    "    # Rank by different criteria\n",
    "    rankings = pd.DataFrame()\n",
    "    rankings['Method'] = results_df['method_combo']\n",
    "    rankings['Price'] = results_df['option_price']\n",
    "    rankings['R2_Score'] = results_df['regression_r2']\n",
    "    rankings['Speed'] = 1 / results_df['computation_time']  # Higher is better\n",
    "    rankings['Stability'] = 1 / results_df['cv_coefficient']  # Higher is better\n",
    "    \n",
    "    # Calculate composite score (normalized)\n",
    "    for col in ['Price', 'R2_Score', 'Speed', 'Stability']:\n",
    "        rankings[f'{col}_norm'] = (rankings[col] - rankings[col].min()) / (rankings[col].max() - rankings[col].min())\n",
    "    \n",
    "    rankings['Composite_Score'] = (rankings['R2_Score_norm'] * 0.4 + \n",
    "                                  rankings['Speed_norm'] * 0.3 + \n",
    "                                  rankings['Stability_norm'] * 0.3)\n",
    "    \n",
    "    # Display top methods\n",
    "    top_methods = rankings.nlargest(5, 'Composite_Score')[['Method', 'Price', 'R2_Score', 'Composite_Score']]\n",
    "    print(\"\\\\nTop 5 Methods by Composite Score:\")\n",
    "    print(top_methods.to_string(index=False))\n",
    "    \n",
    "else:\n",
    "    print(\"❌ No data available for interactive visualization\")"
   ]
  },
  {
   "cell_type": "markdown",
   "id": "8400ab03",
   "metadata": {},
   "source": [
    "## 6. Compare Results Across Options\n",
    "\n",
    "Comprehensive analysis and comparison of different LSM pricing configurations."
   ]
  },
  {
   "cell_type": "code",
   "execution_count": null,
   "id": "6b6e1bed",
   "metadata": {},
   "outputs": [],
   "source": [
    "# Comprehensive comparison analysis\n",
    "if not results_df.empty:\n",
    "    \n",
    "    print(\"🔍 COMPREHENSIVE LSM PRICING ANALYSIS\")\n",
    "    print(\"=\" * 60)\n",
    "    \n",
    "    # 1. BASIS FUNCTION ANALYSIS\n",
    "    print(\"\\\\n📐 BASIS FUNCTION COMPARISON:\")\n",
    "    basis_analysis = results_df.groupby('basis_type').agg({\n",
    "        'option_price': ['mean', 'std', 'min', 'max'],\n",
    "        'regression_r2': ['mean', 'std'],\n",
    "        'computation_time': ['mean', 'std'],\n",
    "        'cv_coefficient': 'mean'\n",
    "    }).round(4)\n",
    "    \n",
    "    print(\"\\\\nBasis Function Performance:\")\n",
    "    for basis in results_df['basis_type'].unique():\n",
    "        basis_data = results_df[results_df['basis_type'] == basis]\n",
    "        print(f\"\\\\n{basis.upper()}:\")\n",
    "        print(f\"  • Mean Price: ${basis_data['option_price'].mean():.2f} ± {basis_data['option_price'].std():.2f}\")\n",
    "        print(f\"  • Mean R²: {basis_data['regression_r2'].mean():.4f} ± {basis_data['regression_r2'].std():.4f}\")\n",
    "        print(f\"  • Mean Time: {basis_data['computation_time'].mean():.2f}s ± {basis_data['computation_time'].std():.2f}s\")\n",
    "        print(f\"  • Stability (1/CV): {(1/basis_data['cv_coefficient'].mean()):.2f}\")\n",
    "    \n",
    "    # 2. REGULARIZATION ANALYSIS\n",
    "    print(\"\\\\n\\\\n🎯 REGULARIZATION IMPACT ANALYSIS:\")\n",
    "    for reg_method in results_df['regularization'].unique():\n",
    "        reg_data = results_df[results_df['regularization'] == reg_method]\n",
    "        print(f\"\\\\n{reg_method.upper()}:\")\n",
    "        print(f\"  • Price Range: ${reg_data['option_price'].min():.2f} - ${reg_data['option_price'].max():.2f}\")\n",
    "        print(f\"  • R² Range: {reg_data['regression_r2'].min():.4f} - {reg_data['regression_r2'].max():.4f}\")\n",
    "        print(f\"  • Avg Computation Time: {reg_data['computation_time'].mean():.2f}s\")\n",
    "        \n",
    "        if reg_method != 'none':\n",
    "            # Analyze regularization strength impact\n",
    "            reg_alpha_analysis = reg_data.groupby('reg_alpha').agg({\n",
    "                'option_price': 'mean',\n",
    "                'regression_r2': 'mean'\n",
    "            })\n",
    "            print(f\"  • Alpha Impact: {reg_alpha_analysis.to_dict()}\")\n",
    "    \n",
    "    # 3. POLYNOMIAL DEGREE ANALYSIS\n",
    "    print(\"\\\\n\\\\n📊 POLYNOMIAL DEGREE ANALYSIS:\")\n",
    "    degree_analysis = results_df.groupby('polynomial_degree').agg({\n",
    "        'option_price': ['mean', 'std'],\n",
    "        'regression_r2': ['mean', 'std'],\n",
    "        'computation_time': 'mean'\n",
    "    }).round(4)\n",
    "    \n",
    "    print(\"\\\\nDegree Performance:\")\n",
    "    for degree in sorted(results_df['polynomial_degree'].unique()):\n",
    "        degree_data = results_df[results_df['polynomial_degree'] == degree]\n",
    "        print(f\"\\\\nDegree {degree}:\")\n",
    "        print(f\"  • Mean Price: ${degree_data['option_price'].mean():.2f}\")\n",
    "        print(f\"  • Mean R²: {degree_data['regression_r2'].mean():.4f}\")\n",
    "        print(f\"  • Mean Time: {degree_data['computation_time'].mean():.2f}s\")\n",
    "        print(f\"  • Price Stability: CV = {degree_data['cv_coefficient'].mean():.4f}\")\n",
    "    \n",
    "    # 4. CROSS-VALIDATION IMPACT\n",
    "    print(\"\\\\n\\\\n✅ CROSS-VALIDATION IMPACT:\")\n",
    "    cv_comparison = results_df.groupby('use_cross_validation').agg({\n",
    "        'option_price': ['mean', 'std'],\n",
    "        'regression_r2': ['mean', 'std'],\n",
    "        'computation_time': ['mean', 'std']\n",
    "    }).round(4)\n",
    "    \n",
    "    for cv_setting in [False, True]:\n",
    "        cv_data = results_df[results_df['use_cross_validation'] == cv_setting]\n",
    "        cv_label = \"WITH Cross-Validation\" if cv_setting else \"WITHOUT Cross-Validation\"\n",
    "        print(f\"\\\\n{cv_label}:\")\n",
    "        print(f\"  • Mean Price: ${cv_data['option_price'].mean():.2f} ± {cv_data['option_price'].std():.2f}\")\n",
    "        print(f\"  • Mean R²: {cv_data['regression_r2'].mean():.4f} ± {cv_data['regression_r2'].std():.4f}\")\n",
    "        print(f\"  • Mean Time: {cv_data['computation_time'].mean():.2f}s ± {cv_data['computation_time'].std():.2f}s\")\n",
    "    \n",
    "    # 5. STATISTICAL SIGNIFICANCE TESTS\n",
    "    print(\"\\\\n\\\\n📈 STATISTICAL SIGNIFICANCE TESTS:\")\n",
    "    \n",
    "    # Test if different basis functions produce significantly different prices\n",
    "    from scipy.stats import f_oneway, kruskal\n",
    "    \n",
    "    basis_groups = [results_df[results_df['basis_type'] == basis]['option_price'].values \n",
    "                   for basis in results_df['basis_type'].unique()]\n",
    "    \n",
    "    if len(basis_groups) > 1:\n",
    "        f_stat, p_value = f_oneway(*basis_groups)\n",
    "        print(f\"\\\\nBasis Function Price Differences (ANOVA):\")\n",
    "        print(f\"  • F-statistic: {f_stat:.4f}\")\n",
    "        print(f\"  • p-value: {p_value:.6f}\")\n",
    "        print(f\"  • Significant difference: {'Yes' if p_value < 0.05 else 'No'}\")\n",
    "    \n",
    "    # Test regularization impact\n",
    "    if len(results_df['regularization'].unique()) > 1:\n",
    "        reg_groups = [results_df[results_df['regularization'] == reg]['option_price'].values \n",
    "                     for reg in results_df['regularization'].unique()]\n",
    "        f_stat_reg, p_value_reg = f_oneway(*reg_groups)\n",
    "        print(f\"\\\\nRegularization Price Differences (ANOVA):\")\n",
    "        print(f\"  • F-statistic: {f_stat_reg:.4f}\")\n",
    "        print(f\"  • p-value: {p_value_reg:.6f}\")\n",
    "        print(f\"  • Significant difference: {'Yes' if p_value_reg < 0.05 else 'No'}\")\n",
    "    \n",
    "    # 6. RECOMMENDATIONS\n",
    "    print(\"\\\\n\\\\n🎯 RECOMMENDATIONS:\")\n",
    "    \n",
    "    # Find best overall method\n",
    "    best_method = results_df.loc[results_df['regression_r2'].idxmax()]\n",
    "    fastest_method = results_df.loc[results_df['computation_time'].idxmin()]\n",
    "    most_stable = results_df.loc[results_df['cv_coefficient'].idxmin()]\n",
    "    \n",
    "    print(f\"\\\\n🏆 BEST REGRESSION QUALITY:\")\n",
    "    print(f\"  • Method: {best_method['basis_type']} + {best_method['regularization']}\")\n",
    "    print(f\"  • R²: {best_method['regression_r2']:.4f}\")\n",
    "    print(f\"  • Price: ${best_method['option_price']:.2f}\")\n",
    "    print(f\"  • Time: {best_method['computation_time']:.2f}s\")\n",
    "    \n",
    "    print(f\"\\\\n⚡ FASTEST METHOD:\")\n",
    "    print(f\"  • Method: {fastest_method['basis_type']} + {fastest_method['regularization']}\")\n",
    "    print(f\"  • Time: {fastest_method['computation_time']:.2f}s\")\n",
    "    print(f\"  • R²: {fastest_method['regression_r2']:.4f}\")\n",
    "    print(f\"  • Price: ${fastest_method['option_price']:.2f}\")\n",
    "    \n",
    "    print(f\"\\\\n🎯 MOST STABLE METHOD:\")\n",
    "    print(f\"  • Method: {most_stable['basis_type']} + {most_stable['regularization']}\")\n",
    "    print(f\"  • CV Coefficient: {most_stable['cv_coefficient']:.4f}\")\n",
    "    print(f\"  • R²: {most_stable['regression_r2']:.4f}\")\n",
    "    print(f\"  • Price: ${most_stable['option_price']:.2f}\")\n",
    "    \n",
    "    # Overall recommendation\n",
    "    print(f\"\\\\n💡 OVERALL RECOMMENDATION:\")\n",
    "    print(f\"  For production use: {best_method['basis_type']} basis with {best_method['regularization']} regularization\")\n",
    "    print(f\"  For quick analysis: {fastest_method['basis_type']} basis with {fastest_method['regularization']} regularization\")\n",
    "    print(f\"  For stable results: {most_stable['basis_type']} basis with {most_stable['regularization']} regularization\")\n",
    "    \n",
    "    print(\"\\\\n\" + \"=\" * 60)\n",
    "    print(\"✅ COMPREHENSIVE ANALYSIS COMPLETE\")\n",
    "    \n",
    "else:\n",
    "    print(\"❌ No successful results available for comparison\")"
   ]
  }
 ],
 "metadata": {
  "kernelspec": {
   "display_name": "EP11",
   "language": "python",
   "name": "python3"
  },
  "language_info": {
   "codemirror_mode": {
    "name": "ipython",
    "version": 3
   },
   "file_extension": ".py",
   "mimetype": "text/x-python",
   "name": "python",
   "nbconvert_exporter": "python",
   "pygments_lexer": "ipython3",
   "version": "3.11.13"
  }
 },
 "nbformat": 4,
 "nbformat_minor": 5
}
