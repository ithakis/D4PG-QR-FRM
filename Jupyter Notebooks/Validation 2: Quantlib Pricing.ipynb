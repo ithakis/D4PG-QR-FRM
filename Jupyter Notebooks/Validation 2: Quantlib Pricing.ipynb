{
 "cells": [
  {
   "cell_type": "code",
   "execution_count": 10,
   "id": "9bc79b72",
   "metadata": {},
   "outputs": [
    {
     "data": {
      "text/plain": [
       "1.2129091862251442"
      ]
     },
     "execution_count": 10,
     "metadata": {},
     "output_type": "execute_result"
    }
   ],
   "source": [
    "import sys\n",
    "\n",
    "# Add the project root directory to Python path\n",
    "sys.path.append('/Users/alexanderithakis/Documents/GitHub/D4PG-QR-FRM')\n",
    "\n",
    "# Relaod the src modules to ensure the latest changes are used\n",
    "import importlib\n",
    "import src.fdm_swing_pricer\n",
    "import src.swing_contract\n",
    "importlib.reload(src.fdm_swing_pricer)\n",
    "importlib.reload(src.swing_contract)\n",
    "from src.fdm_swing_pricer import price_swing_option_fdm\n",
    "from src.swing_contract import SwingContract\n",
    "\n",
    "\n",
    "# Create environments and contracts\n",
    "swing_contract = SwingContract(\n",
    "    q_min=0.0,\n",
    "    q_max=2.0,\n",
    "    Q_min=0.0,\n",
    "    Q_max=20.0,\n",
    "    strike=1.0,\n",
    "    maturity=0.0833,\n",
    "    n_rights=22,\n",
    "    r=0.05,\n",
    "    min_refraction_days=0,\n",
    ")\n",
    "\n",
    "stochastic_process_params = {\n",
    "    \"S0\": 1.0,\n",
    "    \"T\": 0.0833,\n",
    "    \"n_steps\": 22,\n",
    "    \"alpha\": 12.0,\n",
    "    \"sigma\": 1.2,\n",
    "    \"beta\": 150.0,\n",
    "    \"lam\": 6.0,\n",
    "    \"mu_J\": 0.3,\n",
    "    \"f\": lambda t: 0.0,\n",
    "}\n",
    "\n",
    "\n",
    "price_swing_option_fdm(\n",
    "    contract=swing_contract,\n",
    "    stochastic_process_params=stochastic_process_params,\n",
    "    tGrid=25,\n",
    "    xGrid=25,\n",
    "    yGrid=50,  # Adjusted yGrid for better performance\n",
    ")"
   ]
  }
 ],
 "metadata": {
  "kernelspec": {
   "display_name": "EP11",
   "language": "python",
   "name": "python3"
  },
  "language_info": {
   "codemirror_mode": {
    "name": "ipython",
    "version": 3
   },
   "file_extension": ".py",
   "mimetype": "text/x-python",
   "name": "python",
   "nbconvert_exporter": "python",
   "pygments_lexer": "ipython3",
   "version": "3.11.13"
  }
 },
 "nbformat": 4,
 "nbformat_minor": 5
}
